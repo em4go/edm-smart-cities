{
 "cells": [
  {
   "cell_type": "code",
   "execution_count": 2,
   "id": "5faa9605",
   "metadata": {},
   "outputs": [],
   "source": [
    "import pandas as pd\n",
    "import pathlib"
   ]
  },
  {
   "cell_type": "code",
   "execution_count": 3,
   "id": "f8b666db",
   "metadata": {},
   "outputs": [],
   "source": [
    "# current notebook directory\n",
    "data_path = pathlib.Path().resolve().parent / \"data\"\n",
    "\n",
    "df = pd.read_parquet(data_path / \"valenbici_2025.parquet\")"
   ]
  },
  {
   "cell_type": "code",
   "execution_count": 4,
   "id": "ca48ee88",
   "metadata": {},
   "outputs": [
    {
     "data": {
      "text/html": [
       "<div>\n",
       "<style scoped>\n",
       "    .dataframe tbody tr th:only-of-type {\n",
       "        vertical-align: middle;\n",
       "    }\n",
       "\n",
       "    .dataframe tbody tr th {\n",
       "        vertical-align: top;\n",
       "    }\n",
       "\n",
       "    .dataframe thead th {\n",
       "        text-align: right;\n",
       "    }\n",
       "</style>\n",
       "<table border=\"1\" class=\"dataframe\">\n",
       "  <thead>\n",
       "    <tr style=\"text-align: right;\">\n",
       "      <th></th>\n",
       "      <th>Direccion</th>\n",
       "      <th>Numero</th>\n",
       "      <th>Activo</th>\n",
       "      <th>Bicis_disponibles</th>\n",
       "      <th>Espacios_libres</th>\n",
       "      <th>Espacios_totales</th>\n",
       "      <th>ticket</th>\n",
       "      <th>fecha_actualizacion</th>\n",
       "      <th>geo_shape</th>\n",
       "      <th>geo_point_2d</th>\n",
       "      <th>update_jcd</th>\n",
       "      <th>filename</th>\n",
       "      <th>snapshot_ts</th>\n",
       "    </tr>\n",
       "  </thead>\n",
       "  <tbody>\n",
       "    <tr>\n",
       "      <th>0</th>\n",
       "      <td>Plaza Poeta Llorente</td>\n",
       "      <td>5</td>\n",
       "      <td>True</td>\n",
       "      <td>2</td>\n",
       "      <td>13</td>\n",
       "      <td>15</td>\n",
       "      <td>False</td>\n",
       "      <td>2024-12-31 23:50:08</td>\n",
       "      <td>{\"coordinates\": [-0.3711403661399108, 39.47689...</td>\n",
       "      <td>39.476895339123786,-0.3711403661399108</td>\n",
       "      <td>2024-12-31 23:49:21+00:00</td>\n",
       "      <td>extracted_2025/valenbici_01-01-2025_00-00-03.csv</td>\n",
       "      <td>2025-01-01 00:00:03</td>\n",
       "    </tr>\n",
       "    <tr>\n",
       "      <th>1</th>\n",
       "      <td>Xátiva - Bailén (Estación del Norte)</td>\n",
       "      <td>17</td>\n",
       "      <td>True</td>\n",
       "      <td>0</td>\n",
       "      <td>0</td>\n",
       "      <td>30</td>\n",
       "      <td>False</td>\n",
       "      <td>2024-12-31 23:50:08</td>\n",
       "      <td>{\"coordinates\": [-0.3772593951806123, 39.46746...</td>\n",
       "      <td>39.46746831099193,-0.3772593951806123</td>\n",
       "      <td>2024-12-31 23:46:17+00:00</td>\n",
       "      <td>extracted_2025/valenbici_01-01-2025_00-00-03.csv</td>\n",
       "      <td>2025-01-01 00:00:03</td>\n",
       "    </tr>\n",
       "    <tr>\n",
       "      <th>2</th>\n",
       "      <td>Plaza de Tetuán</td>\n",
       "      <td>9</td>\n",
       "      <td>True</td>\n",
       "      <td>4</td>\n",
       "      <td>20</td>\n",
       "      <td>25</td>\n",
       "      <td>False</td>\n",
       "      <td>2024-12-31 23:50:08</td>\n",
       "      <td>{\"coordinates\": [-0.3699303648826442, 39.47435...</td>\n",
       "      <td>39.47435533016869,-0.3699303648826442</td>\n",
       "      <td>2024-12-31 23:49:31+00:00</td>\n",
       "      <td>extracted_2025/valenbici_01-01-2025_00-00-03.csv</td>\n",
       "      <td>2025-01-01 00:00:03</td>\n",
       "    </tr>\n",
       "    <tr>\n",
       "      <th>3</th>\n",
       "      <td>Quart - Fernando el Católico</td>\n",
       "      <td>20</td>\n",
       "      <td>True</td>\n",
       "      <td>8</td>\n",
       "      <td>8</td>\n",
       "      <td>16</td>\n",
       "      <td>False</td>\n",
       "      <td>2024-12-31 23:50:08</td>\n",
       "      <td>{\"coordinates\": [-0.3878474253260651, 39.47503...</td>\n",
       "      <td>39.47503434099054,-0.3878474253260651</td>\n",
       "      <td>2024-12-31 23:44:49+00:00</td>\n",
       "      <td>extracted_2025/valenbici_01-01-2025_00-00-03.csv</td>\n",
       "      <td>2025-01-01 00:00:03</td>\n",
       "    </tr>\n",
       "    <tr>\n",
       "      <th>4</th>\n",
       "      <td>Escultor José Capuz - Oriente</td>\n",
       "      <td>43</td>\n",
       "      <td>True</td>\n",
       "      <td>13</td>\n",
       "      <td>7</td>\n",
       "      <td>20</td>\n",
       "      <td>False</td>\n",
       "      <td>2024-12-31 23:50:08</td>\n",
       "      <td>{\"coordinates\": [-0.36115334583643566, 39.4594...</td>\n",
       "      <td>39.459477276259406,-0.36115334583643566</td>\n",
       "      <td>2024-12-31 23:47:27+00:00</td>\n",
       "      <td>extracted_2025/valenbici_01-01-2025_00-00-03.csv</td>\n",
       "      <td>2025-01-01 00:00:03</td>\n",
       "    </tr>\n",
       "  </tbody>\n",
       "</table>\n",
       "</div>"
      ],
      "text/plain": [
       "                              Direccion  Numero  Activo  Bicis_disponibles  \\\n",
       "0                  Plaza Poeta Llorente       5    True                  2   \n",
       "1  Xátiva - Bailén (Estación del Norte)      17    True                  0   \n",
       "2                       Plaza de Tetuán       9    True                  4   \n",
       "3          Quart - Fernando el Católico      20    True                  8   \n",
       "4         Escultor José Capuz - Oriente      43    True                 13   \n",
       "\n",
       "   Espacios_libres  Espacios_totales  ticket fecha_actualizacion  \\\n",
       "0               13                15   False 2024-12-31 23:50:08   \n",
       "1                0                30   False 2024-12-31 23:50:08   \n",
       "2               20                25   False 2024-12-31 23:50:08   \n",
       "3                8                16   False 2024-12-31 23:50:08   \n",
       "4                7                20   False 2024-12-31 23:50:08   \n",
       "\n",
       "                                           geo_shape  \\\n",
       "0  {\"coordinates\": [-0.3711403661399108, 39.47689...   \n",
       "1  {\"coordinates\": [-0.3772593951806123, 39.46746...   \n",
       "2  {\"coordinates\": [-0.3699303648826442, 39.47435...   \n",
       "3  {\"coordinates\": [-0.3878474253260651, 39.47503...   \n",
       "4  {\"coordinates\": [-0.36115334583643566, 39.4594...   \n",
       "\n",
       "                              geo_point_2d                update_jcd  \\\n",
       "0   39.476895339123786,-0.3711403661399108 2024-12-31 23:49:21+00:00   \n",
       "1    39.46746831099193,-0.3772593951806123 2024-12-31 23:46:17+00:00   \n",
       "2    39.47435533016869,-0.3699303648826442 2024-12-31 23:49:31+00:00   \n",
       "3    39.47503434099054,-0.3878474253260651 2024-12-31 23:44:49+00:00   \n",
       "4  39.459477276259406,-0.36115334583643566 2024-12-31 23:47:27+00:00   \n",
       "\n",
       "                                           filename         snapshot_ts  \n",
       "0  extracted_2025/valenbici_01-01-2025_00-00-03.csv 2025-01-01 00:00:03  \n",
       "1  extracted_2025/valenbici_01-01-2025_00-00-03.csv 2025-01-01 00:00:03  \n",
       "2  extracted_2025/valenbici_01-01-2025_00-00-03.csv 2025-01-01 00:00:03  \n",
       "3  extracted_2025/valenbici_01-01-2025_00-00-03.csv 2025-01-01 00:00:03  \n",
       "4  extracted_2025/valenbici_01-01-2025_00-00-03.csv 2025-01-01 00:00:03  "
      ]
     },
     "execution_count": 4,
     "metadata": {},
     "output_type": "execute_result"
    }
   ],
   "source": [
    "df.head()"
   ]
  },
  {
   "cell_type": "code",
   "execution_count": 5,
   "id": "1c043810",
   "metadata": {},
   "outputs": [
    {
     "name": "stdout",
     "output_type": "stream",
     "text": [
      "<class 'pandas.core.frame.DataFrame'>\n",
      "RangeIndex: 4365543 entries, 0 to 4365542\n",
      "Data columns (total 13 columns):\n",
      " #   Column               Dtype              \n",
      "---  ------               -----              \n",
      " 0   Direccion            object             \n",
      " 1   Numero               int64              \n",
      " 2   Activo               bool               \n",
      " 3   Bicis_disponibles    int64              \n",
      " 4   Espacios_libres      int64              \n",
      " 5   Espacios_totales     int64              \n",
      " 6   ticket               bool               \n",
      " 7   fecha_actualizacion  datetime64[us]     \n",
      " 8   geo_shape            object             \n",
      " 9   geo_point_2d         object             \n",
      " 10  update_jcd           datetime64[us, UTC]\n",
      " 11  filename             object             \n",
      " 12  snapshot_ts          datetime64[us]     \n",
      "dtypes: bool(2), datetime64[us, UTC](1), datetime64[us](2), int64(4), object(4)\n",
      "memory usage: 374.7+ MB\n"
     ]
    }
   ],
   "source": [
    "df.info()"
   ]
  },
  {
   "cell_type": "code",
   "execution_count": 6,
   "id": "4cda99dd",
   "metadata": {},
   "outputs": [],
   "source": [
    "df[\"Year\"] = df[\"fecha_actualizacion\"].dt.year\n",
    "df[\"Month\"] = df[\"fecha_actualizacion\"].dt.month\n",
    "df[\"Day\"] = df[\"fecha_actualizacion\"].dt.day\n",
    "df[\"Hour\"] = df[\"fecha_actualizacion\"].dt.hour\n",
    "df[\"Minute\"] = df[\"fecha_actualizacion\"].dt.minute"
   ]
  },
  {
   "cell_type": "code",
   "execution_count": 7,
   "id": "264e1277",
   "metadata": {},
   "outputs": [],
   "source": [
    "fechas = df[\"fecha_actualizacion\"].dt.strftime(\"%Y-%m-%d--%H:%M\")\n",
    "\n",
    "df[\"unique_id\"] = df[\"Direccion\"].str.cat(fechas, sep=\"-\")"
   ]
  },
  {
   "cell_type": "code",
   "execution_count": 8,
   "id": "58176a89",
   "metadata": {},
   "outputs": [
    {
     "data": {
      "text/html": [
       "<div>\n",
       "<style scoped>\n",
       "    .dataframe tbody tr th:only-of-type {\n",
       "        vertical-align: middle;\n",
       "    }\n",
       "\n",
       "    .dataframe tbody tr th {\n",
       "        vertical-align: top;\n",
       "    }\n",
       "\n",
       "    .dataframe thead th {\n",
       "        text-align: right;\n",
       "    }\n",
       "</style>\n",
       "<table border=\"1\" class=\"dataframe\">\n",
       "  <thead>\n",
       "    <tr style=\"text-align: right;\">\n",
       "      <th></th>\n",
       "      <th>Direccion</th>\n",
       "      <th>Numero</th>\n",
       "      <th>Activo</th>\n",
       "      <th>Bicis_disponibles</th>\n",
       "      <th>Espacios_libres</th>\n",
       "      <th>Espacios_totales</th>\n",
       "      <th>ticket</th>\n",
       "      <th>fecha_actualizacion</th>\n",
       "      <th>geo_shape</th>\n",
       "      <th>geo_point_2d</th>\n",
       "      <th>update_jcd</th>\n",
       "      <th>filename</th>\n",
       "      <th>snapshot_ts</th>\n",
       "      <th>Year</th>\n",
       "      <th>Month</th>\n",
       "      <th>Day</th>\n",
       "      <th>Hour</th>\n",
       "      <th>Minute</th>\n",
       "      <th>unique_id</th>\n",
       "    </tr>\n",
       "  </thead>\n",
       "  <tbody>\n",
       "    <tr>\n",
       "      <th>0</th>\n",
       "      <td>Plaza Poeta Llorente</td>\n",
       "      <td>5</td>\n",
       "      <td>True</td>\n",
       "      <td>2</td>\n",
       "      <td>13</td>\n",
       "      <td>15</td>\n",
       "      <td>False</td>\n",
       "      <td>2024-12-31 23:50:08</td>\n",
       "      <td>{\"coordinates\": [-0.3711403661399108, 39.47689...</td>\n",
       "      <td>39.476895339123786,-0.3711403661399108</td>\n",
       "      <td>2024-12-31 23:49:21+00:00</td>\n",
       "      <td>extracted_2025/valenbici_01-01-2025_00-00-03.csv</td>\n",
       "      <td>2025-01-01 00:00:03</td>\n",
       "      <td>2024</td>\n",
       "      <td>12</td>\n",
       "      <td>31</td>\n",
       "      <td>23</td>\n",
       "      <td>50</td>\n",
       "      <td>Plaza Poeta Llorente-2024-12-31--23:50</td>\n",
       "    </tr>\n",
       "    <tr>\n",
       "      <th>1</th>\n",
       "      <td>Xátiva - Bailén (Estación del Norte)</td>\n",
       "      <td>17</td>\n",
       "      <td>True</td>\n",
       "      <td>0</td>\n",
       "      <td>0</td>\n",
       "      <td>30</td>\n",
       "      <td>False</td>\n",
       "      <td>2024-12-31 23:50:08</td>\n",
       "      <td>{\"coordinates\": [-0.3772593951806123, 39.46746...</td>\n",
       "      <td>39.46746831099193,-0.3772593951806123</td>\n",
       "      <td>2024-12-31 23:46:17+00:00</td>\n",
       "      <td>extracted_2025/valenbici_01-01-2025_00-00-03.csv</td>\n",
       "      <td>2025-01-01 00:00:03</td>\n",
       "      <td>2024</td>\n",
       "      <td>12</td>\n",
       "      <td>31</td>\n",
       "      <td>23</td>\n",
       "      <td>50</td>\n",
       "      <td>Xátiva - Bailén (Estación del Norte)-2024-12-3...</td>\n",
       "    </tr>\n",
       "    <tr>\n",
       "      <th>2</th>\n",
       "      <td>Plaza de Tetuán</td>\n",
       "      <td>9</td>\n",
       "      <td>True</td>\n",
       "      <td>4</td>\n",
       "      <td>20</td>\n",
       "      <td>25</td>\n",
       "      <td>False</td>\n",
       "      <td>2024-12-31 23:50:08</td>\n",
       "      <td>{\"coordinates\": [-0.3699303648826442, 39.47435...</td>\n",
       "      <td>39.47435533016869,-0.3699303648826442</td>\n",
       "      <td>2024-12-31 23:49:31+00:00</td>\n",
       "      <td>extracted_2025/valenbici_01-01-2025_00-00-03.csv</td>\n",
       "      <td>2025-01-01 00:00:03</td>\n",
       "      <td>2024</td>\n",
       "      <td>12</td>\n",
       "      <td>31</td>\n",
       "      <td>23</td>\n",
       "      <td>50</td>\n",
       "      <td>Plaza de Tetuán-2024-12-31--23:50</td>\n",
       "    </tr>\n",
       "    <tr>\n",
       "      <th>3</th>\n",
       "      <td>Quart - Fernando el Católico</td>\n",
       "      <td>20</td>\n",
       "      <td>True</td>\n",
       "      <td>8</td>\n",
       "      <td>8</td>\n",
       "      <td>16</td>\n",
       "      <td>False</td>\n",
       "      <td>2024-12-31 23:50:08</td>\n",
       "      <td>{\"coordinates\": [-0.3878474253260651, 39.47503...</td>\n",
       "      <td>39.47503434099054,-0.3878474253260651</td>\n",
       "      <td>2024-12-31 23:44:49+00:00</td>\n",
       "      <td>extracted_2025/valenbici_01-01-2025_00-00-03.csv</td>\n",
       "      <td>2025-01-01 00:00:03</td>\n",
       "      <td>2024</td>\n",
       "      <td>12</td>\n",
       "      <td>31</td>\n",
       "      <td>23</td>\n",
       "      <td>50</td>\n",
       "      <td>Quart - Fernando el Católico-2024-12-31--23:50</td>\n",
       "    </tr>\n",
       "    <tr>\n",
       "      <th>4</th>\n",
       "      <td>Escultor José Capuz - Oriente</td>\n",
       "      <td>43</td>\n",
       "      <td>True</td>\n",
       "      <td>13</td>\n",
       "      <td>7</td>\n",
       "      <td>20</td>\n",
       "      <td>False</td>\n",
       "      <td>2024-12-31 23:50:08</td>\n",
       "      <td>{\"coordinates\": [-0.36115334583643566, 39.4594...</td>\n",
       "      <td>39.459477276259406,-0.36115334583643566</td>\n",
       "      <td>2024-12-31 23:47:27+00:00</td>\n",
       "      <td>extracted_2025/valenbici_01-01-2025_00-00-03.csv</td>\n",
       "      <td>2025-01-01 00:00:03</td>\n",
       "      <td>2024</td>\n",
       "      <td>12</td>\n",
       "      <td>31</td>\n",
       "      <td>23</td>\n",
       "      <td>50</td>\n",
       "      <td>Escultor José Capuz - Oriente-2024-12-31--23:50</td>\n",
       "    </tr>\n",
       "  </tbody>\n",
       "</table>\n",
       "</div>"
      ],
      "text/plain": [
       "                              Direccion  Numero  Activo  Bicis_disponibles  \\\n",
       "0                  Plaza Poeta Llorente       5    True                  2   \n",
       "1  Xátiva - Bailén (Estación del Norte)      17    True                  0   \n",
       "2                       Plaza de Tetuán       9    True                  4   \n",
       "3          Quart - Fernando el Católico      20    True                  8   \n",
       "4         Escultor José Capuz - Oriente      43    True                 13   \n",
       "\n",
       "   Espacios_libres  Espacios_totales  ticket fecha_actualizacion  \\\n",
       "0               13                15   False 2024-12-31 23:50:08   \n",
       "1                0                30   False 2024-12-31 23:50:08   \n",
       "2               20                25   False 2024-12-31 23:50:08   \n",
       "3                8                16   False 2024-12-31 23:50:08   \n",
       "4                7                20   False 2024-12-31 23:50:08   \n",
       "\n",
       "                                           geo_shape  \\\n",
       "0  {\"coordinates\": [-0.3711403661399108, 39.47689...   \n",
       "1  {\"coordinates\": [-0.3772593951806123, 39.46746...   \n",
       "2  {\"coordinates\": [-0.3699303648826442, 39.47435...   \n",
       "3  {\"coordinates\": [-0.3878474253260651, 39.47503...   \n",
       "4  {\"coordinates\": [-0.36115334583643566, 39.4594...   \n",
       "\n",
       "                              geo_point_2d                update_jcd  \\\n",
       "0   39.476895339123786,-0.3711403661399108 2024-12-31 23:49:21+00:00   \n",
       "1    39.46746831099193,-0.3772593951806123 2024-12-31 23:46:17+00:00   \n",
       "2    39.47435533016869,-0.3699303648826442 2024-12-31 23:49:31+00:00   \n",
       "3    39.47503434099054,-0.3878474253260651 2024-12-31 23:44:49+00:00   \n",
       "4  39.459477276259406,-0.36115334583643566 2024-12-31 23:47:27+00:00   \n",
       "\n",
       "                                           filename         snapshot_ts  Year  \\\n",
       "0  extracted_2025/valenbici_01-01-2025_00-00-03.csv 2025-01-01 00:00:03  2024   \n",
       "1  extracted_2025/valenbici_01-01-2025_00-00-03.csv 2025-01-01 00:00:03  2024   \n",
       "2  extracted_2025/valenbici_01-01-2025_00-00-03.csv 2025-01-01 00:00:03  2024   \n",
       "3  extracted_2025/valenbici_01-01-2025_00-00-03.csv 2025-01-01 00:00:03  2024   \n",
       "4  extracted_2025/valenbici_01-01-2025_00-00-03.csv 2025-01-01 00:00:03  2024   \n",
       "\n",
       "   Month  Day  Hour  Minute                                          unique_id  \n",
       "0     12   31    23      50             Plaza Poeta Llorente-2024-12-31--23:50  \n",
       "1     12   31    23      50  Xátiva - Bailén (Estación del Norte)-2024-12-3...  \n",
       "2     12   31    23      50                  Plaza de Tetuán-2024-12-31--23:50  \n",
       "3     12   31    23      50     Quart - Fernando el Católico-2024-12-31--23:50  \n",
       "4     12   31    23      50    Escultor José Capuz - Oriente-2024-12-31--23:50  "
      ]
     },
     "execution_count": 8,
     "metadata": {},
     "output_type": "execute_result"
    }
   ],
   "source": [
    "df.head()"
   ]
  },
  {
   "cell_type": "code",
   "execution_count": 9,
   "id": "b472e952",
   "metadata": {},
   "outputs": [],
   "source": [
    "df[\"bikes_percent\"] = df[\"Bicis_disponibles\"] / df[\"Espacios_totales\"] * 100"
   ]
  },
  {
   "cell_type": "code",
   "execution_count": 10,
   "id": "5dcce75f",
   "metadata": {},
   "outputs": [],
   "source": [
    "def split_train_test(df, test_days=7, train_days=30, date_col=\"fecha_actualizacion\"):\n",
    "    now = df[date_col].max()\n",
    "    test_start_date = now - pd.Timedelta(days=test_days)\n",
    "    test = df[df[date_col] >= test_start_date]\n",
    "    train_start_date = test_start_date - pd.DateOffset(days=train_days)\n",
    "    train = df[(df[date_col] >= train_start_date) & (df[date_col] < test_start_date)]\n",
    "    return train, test\n",
    "\n",
    "\n",
    "train, test = split_train_test(df)"
   ]
  },
  {
   "cell_type": "code",
   "execution_count": 11,
   "id": "5de3d210",
   "metadata": {},
   "outputs": [
    {
     "data": {
      "text/html": [
       "<div>\n",
       "<style scoped>\n",
       "    .dataframe tbody tr th:only-of-type {\n",
       "        vertical-align: middle;\n",
       "    }\n",
       "\n",
       "    .dataframe tbody tr th {\n",
       "        vertical-align: top;\n",
       "    }\n",
       "\n",
       "    .dataframe thead th {\n",
       "        text-align: right;\n",
       "    }\n",
       "</style>\n",
       "<table border=\"1\" class=\"dataframe\">\n",
       "  <thead>\n",
       "    <tr style=\"text-align: right;\">\n",
       "      <th></th>\n",
       "      <th>Direccion</th>\n",
       "      <th>Numero</th>\n",
       "      <th>Activo</th>\n",
       "      <th>Bicis_disponibles</th>\n",
       "      <th>Espacios_libres</th>\n",
       "      <th>Espacios_totales</th>\n",
       "      <th>ticket</th>\n",
       "      <th>fecha_actualizacion</th>\n",
       "      <th>geo_shape</th>\n",
       "      <th>geo_point_2d</th>\n",
       "      <th>update_jcd</th>\n",
       "      <th>filename</th>\n",
       "      <th>snapshot_ts</th>\n",
       "      <th>Year</th>\n",
       "      <th>Month</th>\n",
       "      <th>Day</th>\n",
       "      <th>Hour</th>\n",
       "      <th>Minute</th>\n",
       "      <th>unique_id</th>\n",
       "      <th>bikes_percent</th>\n",
       "    </tr>\n",
       "  </thead>\n",
       "  <tbody>\n",
       "    <tr>\n",
       "      <th>1541085</th>\n",
       "      <td>Plaza de los Fueros - Conde Trenor</td>\n",
       "      <td>36</td>\n",
       "      <td>True</td>\n",
       "      <td>13</td>\n",
       "      <td>11</td>\n",
       "      <td>25</td>\n",
       "      <td>False</td>\n",
       "      <td>2025-06-09 23:49:48</td>\n",
       "      <td>{\"coordinates\": [-0.3754363798581042, 39.47907...</td>\n",
       "      <td>39.479072348860946,-0.3754363798581042</td>\n",
       "      <td>2025-06-09 23:44:56+00:00</td>\n",
       "      <td>extracted_2025/valenbici_10-06-2025_00-00-22.csv</td>\n",
       "      <td>2025-06-10 00:00:22</td>\n",
       "      <td>2025</td>\n",
       "      <td>6</td>\n",
       "      <td>9</td>\n",
       "      <td>23</td>\n",
       "      <td>49</td>\n",
       "      <td>Plaza de los Fueros - Conde Trenor-2025-06-09-...</td>\n",
       "      <td>52.000000</td>\n",
       "    </tr>\n",
       "    <tr>\n",
       "      <th>1541086</th>\n",
       "      <td>Av. Puerto - José Aguilar</td>\n",
       "      <td>68</td>\n",
       "      <td>True</td>\n",
       "      <td>13</td>\n",
       "      <td>7</td>\n",
       "      <td>20</td>\n",
       "      <td>False</td>\n",
       "      <td>2025-06-09 23:49:48</td>\n",
       "      <td>{\"coordinates\": [-0.3417332778594022, 39.46280...</td>\n",
       "      <td>39.46280327868023,-0.3417332778594022</td>\n",
       "      <td>2025-06-09 23:45:54+00:00</td>\n",
       "      <td>extracted_2025/valenbici_10-06-2025_00-00-22.csv</td>\n",
       "      <td>2025-06-10 00:00:22</td>\n",
       "      <td>2025</td>\n",
       "      <td>6</td>\n",
       "      <td>9</td>\n",
       "      <td>23</td>\n",
       "      <td>49</td>\n",
       "      <td>Av. Puerto - José Aguilar-2025-06-09--23:49</td>\n",
       "      <td>65.000000</td>\n",
       "    </tr>\n",
       "    <tr>\n",
       "      <th>1541087</th>\n",
       "      <td>Alberique, 18 (Abastos)</td>\n",
       "      <td>25</td>\n",
       "      <td>True</td>\n",
       "      <td>6</td>\n",
       "      <td>17</td>\n",
       "      <td>23</td>\n",
       "      <td>False</td>\n",
       "      <td>2025-06-09 23:49:48</td>\n",
       "      <td>{\"coordinates\": [-0.38861043334080225, 39.4677...</td>\n",
       "      <td>39.46772931656263,-0.38861043334080225</td>\n",
       "      <td>2025-06-09 23:40:41+00:00</td>\n",
       "      <td>extracted_2025/valenbici_10-06-2025_00-00-22.csv</td>\n",
       "      <td>2025-06-10 00:00:22</td>\n",
       "      <td>2025</td>\n",
       "      <td>6</td>\n",
       "      <td>9</td>\n",
       "      <td>23</td>\n",
       "      <td>49</td>\n",
       "      <td>Alberique, 18 (Abastos)-2025-06-09--23:49</td>\n",
       "      <td>26.086957</td>\n",
       "    </tr>\n",
       "    <tr>\n",
       "      <th>1541088</th>\n",
       "      <td>Av Puerto 19 (Telefónica)</td>\n",
       "      <td>63</td>\n",
       "      <td>True</td>\n",
       "      <td>15</td>\n",
       "      <td>5</td>\n",
       "      <td>20</td>\n",
       "      <td>False</td>\n",
       "      <td>2025-06-09 23:49:48</td>\n",
       "      <td>{\"coordinates\": [-0.358414330727018, 39.467779...</td>\n",
       "      <td>39.46777930285978,-0.358414330727018</td>\n",
       "      <td>2025-06-09 23:46:28+00:00</td>\n",
       "      <td>extracted_2025/valenbici_10-06-2025_00-00-22.csv</td>\n",
       "      <td>2025-06-10 00:00:22</td>\n",
       "      <td>2025</td>\n",
       "      <td>6</td>\n",
       "      <td>9</td>\n",
       "      <td>23</td>\n",
       "      <td>49</td>\n",
       "      <td>Av Puerto 19 (Telefónica)-2025-06-09--23:49</td>\n",
       "      <td>75.000000</td>\n",
       "    </tr>\n",
       "    <tr>\n",
       "      <th>1541089</th>\n",
       "      <td>República Argentina - Campoamor</td>\n",
       "      <td>75</td>\n",
       "      <td>True</td>\n",
       "      <td>17</td>\n",
       "      <td>8</td>\n",
       "      <td>25</td>\n",
       "      <td>False</td>\n",
       "      <td>2025-06-09 23:49:48</td>\n",
       "      <td>{\"coordinates\": [-0.35170130420295115, 39.4721...</td>\n",
       "      <td>39.472113313853896,-0.35170130420295115</td>\n",
       "      <td>2025-06-09 23:40:29+00:00</td>\n",
       "      <td>extracted_2025/valenbici_10-06-2025_00-00-22.csv</td>\n",
       "      <td>2025-06-10 00:00:22</td>\n",
       "      <td>2025</td>\n",
       "      <td>6</td>\n",
       "      <td>9</td>\n",
       "      <td>23</td>\n",
       "      <td>49</td>\n",
       "      <td>República Argentina - Campoamor-2025-06-09--23:49</td>\n",
       "      <td>68.000000</td>\n",
       "    </tr>\n",
       "    <tr>\n",
       "      <th>...</th>\n",
       "      <td>...</td>\n",
       "      <td>...</td>\n",
       "      <td>...</td>\n",
       "      <td>...</td>\n",
       "      <td>...</td>\n",
       "      <td>...</td>\n",
       "      <td>...</td>\n",
       "      <td>...</td>\n",
       "      <td>...</td>\n",
       "      <td>...</td>\n",
       "      <td>...</td>\n",
       "      <td>...</td>\n",
       "      <td>...</td>\n",
       "      <td>...</td>\n",
       "      <td>...</td>\n",
       "      <td>...</td>\n",
       "      <td>...</td>\n",
       "      <td>...</td>\n",
       "      <td>...</td>\n",
       "      <td>...</td>\n",
       "    </tr>\n",
       "    <tr>\n",
       "      <th>2617519</th>\n",
       "      <td>Dels Gremis - Campos Crespo</td>\n",
       "      <td>252</td>\n",
       "      <td>True</td>\n",
       "      <td>12</td>\n",
       "      <td>8</td>\n",
       "      <td>20</td>\n",
       "      <td>False</td>\n",
       "      <td>2025-06-16 23:49:47</td>\n",
       "      <td>{\"coordinates\": [-0.40357449843597065, 39.4502...</td>\n",
       "      <td>39.45028826570709,-0.40357449843597065</td>\n",
       "      <td>2025-06-16 23:37:37+00:00</td>\n",
       "      <td>extracted_2025/valenbici_17-06-2025_00-00-02.csv</td>\n",
       "      <td>2025-06-17 00:00:02</td>\n",
       "      <td>2025</td>\n",
       "      <td>6</td>\n",
       "      <td>16</td>\n",
       "      <td>23</td>\n",
       "      <td>49</td>\n",
       "      <td>Dels Gremis - Campos Crespo-2025-06-16--23:49</td>\n",
       "      <td>60.000000</td>\n",
       "    </tr>\n",
       "    <tr>\n",
       "      <th>2617520</th>\n",
       "      <td>Levante U.D. - Ecuador</td>\n",
       "      <td>237</td>\n",
       "      <td>True</td>\n",
       "      <td>6</td>\n",
       "      <td>9</td>\n",
       "      <td>15</td>\n",
       "      <td>False</td>\n",
       "      <td>2025-06-16 23:49:47</td>\n",
       "      <td>{\"coordinates\": [-0.39103842063587124, 39.4947...</td>\n",
       "      <td>39.494758407776374,-0.39103842063587124</td>\n",
       "      <td>2025-06-16 23:42:49+00:00</td>\n",
       "      <td>extracted_2025/valenbici_17-06-2025_00-00-02.csv</td>\n",
       "      <td>2025-06-17 00:00:02</td>\n",
       "      <td>2025</td>\n",
       "      <td>6</td>\n",
       "      <td>16</td>\n",
       "      <td>23</td>\n",
       "      <td>49</td>\n",
       "      <td>Levante U.D. - Ecuador-2025-06-16--23:49</td>\n",
       "      <td>40.000000</td>\n",
       "    </tr>\n",
       "    <tr>\n",
       "      <th>2617521</th>\n",
       "      <td>La Vall d'Albaida - Corts Valencianes</td>\n",
       "      <td>241</td>\n",
       "      <td>True</td>\n",
       "      <td>3</td>\n",
       "      <td>12</td>\n",
       "      <td>15</td>\n",
       "      <td>False</td>\n",
       "      <td>2025-06-16 23:49:47</td>\n",
       "      <td>{\"coordinates\": [-0.4018904586642118, 39.49297...</td>\n",
       "      <td>39.49297840711153,-0.4018904586642118</td>\n",
       "      <td>2025-06-16 23:38:24+00:00</td>\n",
       "      <td>extracted_2025/valenbici_17-06-2025_00-00-02.csv</td>\n",
       "      <td>2025-06-17 00:00:02</td>\n",
       "      <td>2025</td>\n",
       "      <td>6</td>\n",
       "      <td>16</td>\n",
       "      <td>23</td>\n",
       "      <td>49</td>\n",
       "      <td>La Vall d'Albaida - Corts Valencianes-2025-06-...</td>\n",
       "      <td>20.000000</td>\n",
       "    </tr>\n",
       "    <tr>\n",
       "      <th>2617522</th>\n",
       "      <td>Nueve de Octubre - Cieza</td>\n",
       "      <td>245</td>\n",
       "      <td>True</td>\n",
       "      <td>2</td>\n",
       "      <td>18</td>\n",
       "      <td>20</td>\n",
       "      <td>False</td>\n",
       "      <td>2025-06-16 23:49:47</td>\n",
       "      <td>{\"coordinates\": [-0.40527029936434095, 39.4721...</td>\n",
       "      <td>39.47213024806011,-0.40527029936434095</td>\n",
       "      <td>2025-06-16 23:38:06+00:00</td>\n",
       "      <td>extracted_2025/valenbici_17-06-2025_00-00-02.csv</td>\n",
       "      <td>2025-06-17 00:00:02</td>\n",
       "      <td>2025</td>\n",
       "      <td>6</td>\n",
       "      <td>16</td>\n",
       "      <td>23</td>\n",
       "      <td>49</td>\n",
       "      <td>Nueve de Octubre - Cieza-2025-06-16--23:49</td>\n",
       "      <td>10.000000</td>\n",
       "    </tr>\n",
       "    <tr>\n",
       "      <th>2617523</th>\n",
       "      <td>San Juan Bosco - Santiago Rusiñol</td>\n",
       "      <td>233</td>\n",
       "      <td>True</td>\n",
       "      <td>14</td>\n",
       "      <td>1</td>\n",
       "      <td>15</td>\n",
       "      <td>False</td>\n",
       "      <td>2025-06-16 23:49:47</td>\n",
       "      <td>{\"coordinates\": [-0.36943734517384297, 39.4971...</td>\n",
       "      <td>39.497160406039164,-0.36943734517384297</td>\n",
       "      <td>2025-06-16 23:39:03+00:00</td>\n",
       "      <td>extracted_2025/valenbici_17-06-2025_00-00-02.csv</td>\n",
       "      <td>2025-06-17 00:00:02</td>\n",
       "      <td>2025</td>\n",
       "      <td>6</td>\n",
       "      <td>16</td>\n",
       "      <td>23</td>\n",
       "      <td>49</td>\n",
       "      <td>San Juan Bosco - Santiago Rusiñol-2025-06-16--...</td>\n",
       "      <td>93.333333</td>\n",
       "    </tr>\n",
       "  </tbody>\n",
       "</table>\n",
       "<p>183729 rows × 20 columns</p>\n",
       "</div>"
      ],
      "text/plain": [
       "                                     Direccion  Numero  Activo  \\\n",
       "1541085     Plaza de los Fueros - Conde Trenor      36    True   \n",
       "1541086              Av. Puerto - José Aguilar      68    True   \n",
       "1541087                Alberique, 18 (Abastos)      25    True   \n",
       "1541088              Av Puerto 19 (Telefónica)      63    True   \n",
       "1541089        República Argentina - Campoamor      75    True   \n",
       "...                                        ...     ...     ...   \n",
       "2617519            Dels Gremis - Campos Crespo     252    True   \n",
       "2617520                 Levante U.D. - Ecuador     237    True   \n",
       "2617521  La Vall d'Albaida - Corts Valencianes     241    True   \n",
       "2617522               Nueve de Octubre - Cieza     245    True   \n",
       "2617523      San Juan Bosco - Santiago Rusiñol     233    True   \n",
       "\n",
       "         Bicis_disponibles  Espacios_libres  Espacios_totales  ticket  \\\n",
       "1541085                 13               11                25   False   \n",
       "1541086                 13                7                20   False   \n",
       "1541087                  6               17                23   False   \n",
       "1541088                 15                5                20   False   \n",
       "1541089                 17                8                25   False   \n",
       "...                    ...              ...               ...     ...   \n",
       "2617519                 12                8                20   False   \n",
       "2617520                  6                9                15   False   \n",
       "2617521                  3               12                15   False   \n",
       "2617522                  2               18                20   False   \n",
       "2617523                 14                1                15   False   \n",
       "\n",
       "        fecha_actualizacion  \\\n",
       "1541085 2025-06-09 23:49:48   \n",
       "1541086 2025-06-09 23:49:48   \n",
       "1541087 2025-06-09 23:49:48   \n",
       "1541088 2025-06-09 23:49:48   \n",
       "1541089 2025-06-09 23:49:48   \n",
       "...                     ...   \n",
       "2617519 2025-06-16 23:49:47   \n",
       "2617520 2025-06-16 23:49:47   \n",
       "2617521 2025-06-16 23:49:47   \n",
       "2617522 2025-06-16 23:49:47   \n",
       "2617523 2025-06-16 23:49:47   \n",
       "\n",
       "                                                 geo_shape  \\\n",
       "1541085  {\"coordinates\": [-0.3754363798581042, 39.47907...   \n",
       "1541086  {\"coordinates\": [-0.3417332778594022, 39.46280...   \n",
       "1541087  {\"coordinates\": [-0.38861043334080225, 39.4677...   \n",
       "1541088  {\"coordinates\": [-0.358414330727018, 39.467779...   \n",
       "1541089  {\"coordinates\": [-0.35170130420295115, 39.4721...   \n",
       "...                                                    ...   \n",
       "2617519  {\"coordinates\": [-0.40357449843597065, 39.4502...   \n",
       "2617520  {\"coordinates\": [-0.39103842063587124, 39.4947...   \n",
       "2617521  {\"coordinates\": [-0.4018904586642118, 39.49297...   \n",
       "2617522  {\"coordinates\": [-0.40527029936434095, 39.4721...   \n",
       "2617523  {\"coordinates\": [-0.36943734517384297, 39.4971...   \n",
       "\n",
       "                                    geo_point_2d                update_jcd  \\\n",
       "1541085   39.479072348860946,-0.3754363798581042 2025-06-09 23:44:56+00:00   \n",
       "1541086    39.46280327868023,-0.3417332778594022 2025-06-09 23:45:54+00:00   \n",
       "1541087   39.46772931656263,-0.38861043334080225 2025-06-09 23:40:41+00:00   \n",
       "1541088     39.46777930285978,-0.358414330727018 2025-06-09 23:46:28+00:00   \n",
       "1541089  39.472113313853896,-0.35170130420295115 2025-06-09 23:40:29+00:00   \n",
       "...                                          ...                       ...   \n",
       "2617519   39.45028826570709,-0.40357449843597065 2025-06-16 23:37:37+00:00   \n",
       "2617520  39.494758407776374,-0.39103842063587124 2025-06-16 23:42:49+00:00   \n",
       "2617521    39.49297840711153,-0.4018904586642118 2025-06-16 23:38:24+00:00   \n",
       "2617522   39.47213024806011,-0.40527029936434095 2025-06-16 23:38:06+00:00   \n",
       "2617523  39.497160406039164,-0.36943734517384297 2025-06-16 23:39:03+00:00   \n",
       "\n",
       "                                                 filename         snapshot_ts  \\\n",
       "1541085  extracted_2025/valenbici_10-06-2025_00-00-22.csv 2025-06-10 00:00:22   \n",
       "1541086  extracted_2025/valenbici_10-06-2025_00-00-22.csv 2025-06-10 00:00:22   \n",
       "1541087  extracted_2025/valenbici_10-06-2025_00-00-22.csv 2025-06-10 00:00:22   \n",
       "1541088  extracted_2025/valenbici_10-06-2025_00-00-22.csv 2025-06-10 00:00:22   \n",
       "1541089  extracted_2025/valenbici_10-06-2025_00-00-22.csv 2025-06-10 00:00:22   \n",
       "...                                                   ...                 ...   \n",
       "2617519  extracted_2025/valenbici_17-06-2025_00-00-02.csv 2025-06-17 00:00:02   \n",
       "2617520  extracted_2025/valenbici_17-06-2025_00-00-02.csv 2025-06-17 00:00:02   \n",
       "2617521  extracted_2025/valenbici_17-06-2025_00-00-02.csv 2025-06-17 00:00:02   \n",
       "2617522  extracted_2025/valenbici_17-06-2025_00-00-02.csv 2025-06-17 00:00:02   \n",
       "2617523  extracted_2025/valenbici_17-06-2025_00-00-02.csv 2025-06-17 00:00:02   \n",
       "\n",
       "         Year  Month  Day  Hour  Minute  \\\n",
       "1541085  2025      6    9    23      49   \n",
       "1541086  2025      6    9    23      49   \n",
       "1541087  2025      6    9    23      49   \n",
       "1541088  2025      6    9    23      49   \n",
       "1541089  2025      6    9    23      49   \n",
       "...       ...    ...  ...   ...     ...   \n",
       "2617519  2025      6   16    23      49   \n",
       "2617520  2025      6   16    23      49   \n",
       "2617521  2025      6   16    23      49   \n",
       "2617522  2025      6   16    23      49   \n",
       "2617523  2025      6   16    23      49   \n",
       "\n",
       "                                                 unique_id  bikes_percent  \n",
       "1541085  Plaza de los Fueros - Conde Trenor-2025-06-09-...      52.000000  \n",
       "1541086        Av. Puerto - José Aguilar-2025-06-09--23:49      65.000000  \n",
       "1541087          Alberique, 18 (Abastos)-2025-06-09--23:49      26.086957  \n",
       "1541088        Av Puerto 19 (Telefónica)-2025-06-09--23:49      75.000000  \n",
       "1541089  República Argentina - Campoamor-2025-06-09--23:49      68.000000  \n",
       "...                                                    ...            ...  \n",
       "2617519      Dels Gremis - Campos Crespo-2025-06-16--23:49      60.000000  \n",
       "2617520           Levante U.D. - Ecuador-2025-06-16--23:49      40.000000  \n",
       "2617521  La Vall d'Albaida - Corts Valencianes-2025-06-...      20.000000  \n",
       "2617522         Nueve de Octubre - Cieza-2025-06-16--23:49      10.000000  \n",
       "2617523  San Juan Bosco - Santiago Rusiñol-2025-06-16--...      93.333333  \n",
       "\n",
       "[183729 rows x 20 columns]"
      ]
     },
     "execution_count": 11,
     "metadata": {},
     "output_type": "execute_result"
    }
   ],
   "source": [
    "test"
   ]
  },
  {
   "cell_type": "code",
   "execution_count": 12,
   "id": "834e75c8",
   "metadata": {},
   "outputs": [],
   "source": [
    "from sklearn.metrics import (\n",
    "    mean_absolute_error,\n",
    "    mean_squared_error,\n",
    ")\n",
    "import numpy as np"
   ]
  },
  {
   "cell_type": "code",
   "execution_count": 13,
   "id": "cebdb0d7",
   "metadata": {},
   "outputs": [],
   "source": [
    "filtered_series = test[\"unique_id\"].str.contains(\"República Argentina - Campoamor\")\n",
    "filtered_test = test[filtered_series]"
   ]
  },
  {
   "cell_type": "code",
   "execution_count": 14,
   "id": "0df1d787",
   "metadata": {},
   "outputs": [
    {
     "data": {
      "application/vnd.plotly.v1+json": {
       "config": {
        "plotlyServerURL": "https://plot.ly"
       },
       "data": [
        {
         "hovertemplate": "variable=bikes_percent<br>Date=%{x}<br>Percentage / Count=%{y}<extra></extra>",
         "legendgroup": "bikes_percent",
         "line": {
          "color": "#636efa",
          "dash": "solid"
         },
         "marker": {
          "symbol": "circle"
         },
         "mode": "lines",
         "name": "bikes_percent",
         "showlegend": true,
         "type": "scattergl",
         "x": [
          "2025-06-09T23:49:48.000000",
          "2025-06-10T00:10:02.000000",
          "2025-06-10T00:19:11.000000",
          "2025-06-10T00:39:26.000000",
          "2025-06-10T00:49:32.000000",
          "2025-06-10T01:09:46.000000",
          "2025-06-10T01:19:52.000000",
          "2025-06-10T01:39:31.000000",
          "2025-06-10T01:49:37.000000",
          "2025-06-10T02:09:52.000000",
          "2025-06-10T02:19:59.000000",
          "2025-06-10T02:40:14.000000",
          "2025-06-10T02:49:21.000000",
          "2025-06-10T03:09:36.000000",
          "2025-06-10T03:19:43.000000",
          "2025-06-10T03:39:56.000000",
          "2025-06-10T03:50:03.000000",
          "2025-06-10T04:10:17.000000",
          "2025-06-10T04:20:23.000000",
          "2025-06-10T04:39:36.000000",
          "2025-06-10T04:49:43.000000",
          "2025-06-10T05:10:00.000000",
          "2025-06-10T05:20:09.000000",
          "2025-06-10T05:39:26.000000",
          "2025-06-10T05:49:58.000000",
          "2025-06-10T06:09:36.000000",
          "2025-06-10T06:19:43.000000",
          "2025-06-10T06:39:57.000000",
          "2025-06-10T06:50:04.000000",
          "2025-06-10T07:10:18.000000",
          "2025-06-10T07:20:25.000000",
          "2025-06-10T07:39:38.000000",
          "2025-06-10T07:49:44.000000",
          "2025-06-10T08:10:24.000000",
          "2025-06-10T08:19:30.000000",
          "2025-06-10T08:39:45.000000",
          "2025-06-10T08:49:53.000000",
          "2025-06-10T09:10:08.000000",
          "2025-06-10T09:19:23.000000",
          "2025-06-10T09:40:38.000000",
          "2025-06-10T09:50:46.000000",
          "2025-06-10T10:10:25.000000",
          "2025-06-10T10:20:32.000000",
          "2025-06-10T10:42:46.000000",
          "2025-06-10T10:49:16.000000",
          "2025-06-10T11:09:31.000000",
          "2025-06-10T11:19:38.000000",
          "2025-06-10T11:40:19.000000",
          "2025-06-10T11:49:25.000000",
          "2025-06-10T12:10:06.000000",
          "2025-06-10T12:19:13.000000",
          "2025-06-10T12:39:52.000000",
          "2025-06-10T12:49:59.000000",
          "2025-06-10T13:09:18.000000",
          "2025-06-10T13:19:51.000000",
          "2025-06-10T13:40:06.000000",
          "2025-06-10T13:49:14.000000",
          "2025-06-10T14:09:28.000000",
          "2025-06-10T14:20:00.000000",
          "2025-06-10T14:40:17.000000",
          "2025-06-10T14:49:23.000000",
          "2025-06-10T15:09:38.000000",
          "2025-06-10T15:20:46.000000",
          "2025-06-10T15:40:01.000000",
          "2025-06-10T15:49:32.000000",
          "2025-06-10T16:09:45.000000",
          "2025-06-10T16:19:52.000000",
          "2025-06-10T16:40:06.000000",
          "2025-06-10T16:50:13.000000",
          "2025-06-10T17:09:52.000000",
          "2025-06-10T17:20:23.000000",
          "2025-06-10T17:39:38.000000",
          "2025-06-10T17:49:45.000000",
          "2025-06-10T18:09:59.000000",
          "2025-06-10T18:20:06.000000",
          "2025-06-10T18:27:12.000000",
          "2025-06-10T18:49:10.000000",
          "2025-06-10T19:10:26.000000",
          "2025-06-10T19:19:35.000000",
          "2025-06-10T19:39:49.000000",
          "2025-06-10T19:49:56.000000",
          "2025-06-10T20:10:09.000000",
          "2025-06-10T20:19:40.000000",
          "2025-06-10T20:39:21.000000",
          "2025-06-10T20:49:28.000000",
          "2025-06-10T21:10:05.000000",
          "2025-06-10T21:19:11.000000",
          "2025-06-10T21:39:24.000000",
          "2025-06-10T21:49:31.000000",
          "2025-06-10T22:09:49.000000",
          "2025-06-10T22:19:56.000000",
          "2025-06-10T22:39:34.000000",
          "2025-06-10T22:49:41.000000",
          "2025-06-10T23:09:55.000000",
          "2025-06-10T23:20:01.000000",
          "2025-06-10T23:39:21.000000",
          "2025-06-10T23:49:28.000000",
          "2025-06-11T00:10:07.000000",
          "2025-06-11T00:20:17.000000",
          "2025-06-11T00:39:56.000000",
          "2025-06-11T00:50:03.000000",
          "2025-06-11T01:10:19.000000",
          "2025-06-11T01:19:26.000000",
          "2025-06-11T01:39:20.000000",
          "2025-06-11T01:50:28.000000",
          "2025-06-11T02:09:41.000000",
          "2025-06-11T02:19:49.000000",
          "2025-06-11T02:40:02.000000",
          "2025-06-11T02:50:10.000000",
          "2025-06-11T03:09:24.000000",
          "2025-06-11T03:19:30.000000",
          "2025-06-11T03:40:09.000000",
          "2025-06-11T03:49:39.000000",
          "2025-06-11T04:09:52.000000",
          "2025-06-11T04:20:00.000000",
          "2025-06-11T04:39:38.000000",
          "2025-06-11T04:49:45.000000",
          "2025-06-11T05:09:25.000000",
          "2025-06-11T05:20:00.000000",
          "2025-06-11T05:39:42.000000",
          "2025-06-11T05:49:49.000000",
          "2025-06-11T06:10:02.000000",
          "2025-06-11T06:19:08.000000",
          "2025-06-11T06:40:23.000000",
          "2025-06-11T06:49:54.000000",
          "2025-06-11T07:10:10.000000",
          "2025-06-11T07:19:17.000000",
          "2025-06-11T07:39:30.000000",
          "2025-06-11T07:49:40.000000",
          "2025-06-11T08:09:30.000000",
          "2025-06-11T08:19:39.000000",
          "2025-06-11T08:39:54.000000",
          "2025-06-11T08:50:03.000000",
          "2025-06-11T09:09:42.000000",
          "2025-06-11T09:19:50.000000",
          "2025-06-11T09:40:06.000000",
          "2025-06-11T09:50:14.000000",
          "2025-06-11T10:09:51.000000",
          "2025-06-11T10:19:59.000000",
          "2025-06-11T10:40:16.000000",
          "2025-06-11T10:50:23.000000",
          "2025-06-11T11:10:37.000000",
          "2025-06-11T11:19:42.000000",
          "2025-06-11T11:39:26.000000",
          "2025-06-11T11:49:33.000000",
          "2025-06-11T12:09:47.000000",
          "2025-06-11T12:19:54.000000",
          "2025-06-11T12:39:08.000000",
          "2025-06-11T12:50:16.000000",
          "2025-06-11T13:09:31.000000",
          "2025-06-11T13:29:45.000000",
          "2025-06-11T13:39:53.000000",
          "2025-06-11T13:50:00.000000",
          "2025-06-11T14:10:18.000000",
          "2025-06-11T14:19:25.000000",
          "2025-06-11T14:39:40.000000",
          "2025-06-11T14:49:48.000000",
          "2025-06-11T15:10:04.000000",
          "2025-06-11T15:20:11.000000",
          "2025-06-11T15:39:50.000000",
          "2025-06-11T15:49:58.000000",
          "2025-06-11T16:10:13.000000",
          "2025-06-11T16:20:46.000000",
          "2025-06-11T16:40:24.000000",
          "2025-06-11T16:49:30.000000",
          "2025-06-11T17:09:44.000000",
          "2025-06-11T17:19:51.000000",
          "2025-06-11T17:40:07.000000",
          "2025-06-11T17:50:15.000000",
          "2025-06-11T18:09:27.000000",
          "2025-06-11T18:19:35.000000",
          "2025-06-11T18:39:50.000000",
          "2025-06-11T18:49:57.000000",
          "2025-06-11T19:10:12.000000",
          "2025-06-11T19:20:21.000000",
          "2025-06-11T19:39:35.000000",
          "2025-06-11T19:49:42.000000",
          "2025-06-11T20:09:56.000000",
          "2025-06-11T20:20:03.000000",
          "2025-06-11T20:39:17.000000",
          "2025-06-11T20:50:25.000000",
          "2025-06-11T21:09:39.000000",
          "2025-06-11T21:19:46.000000",
          "2025-06-11T21:39:59.000000",
          "2025-06-11T21:50:06.000000",
          "2025-06-11T22:09:25.000000",
          "2025-06-11T22:19:33.000000",
          "2025-06-11T22:39:48.000000",
          "2025-06-11T22:49:55.000000",
          "2025-06-11T23:09:09.000000",
          "2025-06-11T23:19:16.000000",
          "2025-06-11T23:39:33.000000",
          "2025-06-11T23:50:05.000000",
          "2025-06-12T00:10:19.000000",
          "2025-06-12T00:19:27.000000",
          "2025-06-12T00:39:43.000000",
          "2025-06-12T00:49:50.000000",
          "2025-06-12T01:10:03.000000",
          "2025-06-12T01:19:34.000000",
          "2025-06-12T01:39:46.000000",
          "2025-06-12T01:49:54.000000",
          "2025-06-12T02:09:08.000000",
          "2025-06-12T02:20:17.000000",
          "2025-06-12T02:39:31.000000",
          "2025-06-12T02:49:38.000000",
          "2025-06-12T03:09:52.000000",
          "2025-06-12T03:19:23.000000",
          "2025-06-12T03:39:36.000000",
          "2025-06-12T03:49:42.000000",
          "2025-06-12T04:09:55.000000",
          "2025-06-12T04:20:03.000000",
          "2025-06-12T04:40:16.000000",
          "2025-06-12T04:50:23.000000",
          "2025-06-12T05:09:38.000000",
          "2025-06-12T05:19:47.000000",
          "2025-06-12T05:40:04.000000",
          "2025-06-12T05:50:12.000000",
          "2025-06-12T06:10:25.000000",
          "2025-06-12T06:20:32.000000",
          "2025-06-12T06:39:46.000000",
          "2025-06-12T06:49:52.000000",
          "2025-06-12T07:10:07.000000",
          "2025-06-12T07:19:14.000000",
          "2025-06-12T07:39:54.000000",
          "2025-06-12T07:50:07.000000",
          "2025-06-12T08:09:42.000000",
          "2025-06-12T08:20:05.000000",
          "2025-06-12T08:39:36.000000",
          "2025-06-12T08:49:45.000000",
          "2025-06-12T09:09:41.000000",
          "2025-06-12T09:19:48.000000",
          "2025-06-12T09:40:17.000000",
          "2025-06-12T09:49:49.000000",
          "2025-06-12T10:10:04.000000",
          "2025-06-12T10:19:10.000000",
          "2025-06-12T10:39:24.000000",
          "2025-06-12T10:49:32.000000",
          "2025-06-12T11:09:48.000000",
          "2025-06-12T11:19:56.000000",
          "2025-06-12T11:40:12.000000",
          "2025-06-12T11:49:19.000000",
          "2025-06-12T12:10:00.000000",
          "2025-06-12T12:20:08.000000",
          "2025-06-12T12:39:24.000000",
          "2025-06-12T12:49:31.000000",
          "2025-06-12T13:09:47.000000",
          "2025-06-12T13:19:54.000000",
          "2025-06-12T13:40:10.000000",
          "2025-06-12T13:50:19.000000",
          "2025-06-12T14:09:33.000000",
          "2025-06-12T14:19:41.000000",
          "2025-06-12T14:39:56.000000",
          "2025-06-12T14:50:04.000000",
          "2025-06-12T15:10:21.000000",
          "2025-06-12T15:20:29.000000",
          "2025-06-12T15:39:42.000000",
          "2025-06-12T15:49:50.000000",
          "2025-06-12T16:10:28.000000",
          "2025-06-12T16:19:34.000000",
          "2025-06-12T16:39:49.000000",
          "2025-06-12T16:49:56.000000",
          "2025-06-12T17:10:11.000000",
          "2025-06-12T17:20:19.000000",
          "2025-06-12T17:39:59.000000",
          "2025-06-12T17:50:07.000000",
          "2025-06-12T18:10:22.000000",
          "2025-06-12T18:19:28.000000",
          "2025-06-12T18:40:09.000000",
          "2025-06-12T18:50:16.000000",
          "2025-06-12T19:09:34.000000",
          "2025-06-12T19:19:47.000000",
          "2025-06-12T19:39:29.000000",
          "2025-06-12T19:50:01.000000",
          "2025-06-12T20:09:15.000000",
          "2025-06-12T20:19:23.000000",
          "2025-06-12T20:39:41.000000",
          "2025-06-12T20:49:48.000000",
          "2025-06-12T21:10:03.000000",
          "2025-06-12T21:20:12.000000",
          "2025-06-12T21:39:27.000000",
          "2025-06-12T21:49:36.000000",
          "2025-06-12T22:09:56.000000",
          "2025-06-12T22:19:04.000000",
          "2025-06-12T22:39:44.000000",
          "2025-06-12T22:49:52.000000",
          "2025-06-12T23:10:07.000000",
          "2025-06-12T23:19:39.000000",
          "2025-06-12T23:39:55.000000",
          "2025-06-12T23:50:02.000000",
          "2025-06-13T00:10:18.000000",
          "2025-06-13T00:19:56.000000",
          "2025-06-13T00:39:15.000000",
          "2025-06-13T00:49:22.000000",
          "2025-06-13T01:10:05.000000",
          "2025-06-13T01:19:12.000000",
          "2025-06-13T01:39:52.000000",
          "2025-06-13T01:49:58.000000",
          "2025-06-13T02:10:16.000000",
          "2025-06-13T02:19:23.000000",
          "2025-06-13T02:39:38.000000",
          "2025-06-13T02:49:47.000000",
          "2025-06-13T03:09:27.000000",
          "2025-06-13T03:19:35.000000",
          "2025-06-13T03:39:18.000000",
          "2025-06-13T03:49:27.000000",
          "2025-06-13T04:09:43.000000",
          "2025-06-13T04:19:50.000000",
          "2025-06-13T04:40:05.000000",
          "2025-06-13T04:50:14.000000",
          "2025-06-13T05:09:30.000000",
          "2025-06-13T05:19:38.000000",
          "2025-06-13T05:40:01.000000",
          "2025-06-13T05:49:36.000000",
          "2025-06-13T06:09:17.000000",
          "2025-06-13T06:19:25.000000",
          "2025-06-13T06:39:38.000000",
          "2025-06-13T06:49:45.000000",
          "2025-06-13T07:10:26.000000",
          "2025-06-13T07:19:33.000000",
          "2025-06-13T07:39:47.000000",
          "2025-06-13T07:49:56.000000",
          "2025-06-13T08:09:25.000000",
          "2025-06-13T08:19:33.000000",
          "2025-06-13T08:39:48.000000",
          "2025-06-13T08:49:55.000000",
          "2025-06-13T09:10:11.000000",
          "2025-06-13T09:20:19.000000",
          "2025-06-13T09:39:59.000000",
          "2025-06-13T09:50:06.000000",
          "2025-06-13T10:09:22.000000",
          "2025-06-13T10:19:29.000000",
          "2025-06-13T10:40:09.000000",
          "2025-06-13T10:50:17.000000",
          "2025-06-13T11:10:32.000000",
          "2025-06-13T11:19:39.000000",
          "2025-06-13T11:40:13.000000",
          "2025-06-13T11:49:20.000000",
          "2025-06-13T12:09:36.000000",
          "2025-06-13T12:19:44.000000",
          "2025-06-13T12:40:24.000000",
          "2025-06-13T12:49:31.000000",
          "2025-06-13T13:10:14.000000",
          "2025-06-13T13:19:46.000000",
          "2025-06-13T13:40:02.000000",
          "2025-06-13T13:50:11.000000",
          "2025-06-13T14:09:27.000000",
          "2025-06-13T14:19:34.000000",
          "2025-06-13T14:39:50.000000",
          "2025-06-13T14:50:22.000000",
          "2025-06-13T15:09:36.000000",
          "2025-06-13T15:19:43.000000",
          "2025-06-13T15:39:58.000000",
          "2025-06-13T15:50:05.000000",
          "2025-06-13T16:10:20.000000",
          "2025-06-13T16:19:27.000000",
          "2025-06-13T16:39:07.000000",
          "2025-06-13T16:49:40.000000",
          "2025-06-13T17:09:53.000000",
          "2025-06-13T17:20:01.000000",
          "2025-06-13T17:40:18.000000",
          "2025-06-13T17:49:24.000000",
          "2025-06-13T18:09:38.000000",
          "2025-06-13T18:19:45.000000",
          "2025-06-13T18:40:01.000000",
          "2025-06-13T18:50:09.000000",
          "2025-06-13T19:09:25.000000",
          "2025-06-13T19:19:38.000000",
          "2025-06-13T19:39:18.000000",
          "2025-06-13T19:49:25.000000",
          "2025-06-13T20:09:39.000000",
          "2025-06-13T20:19:47.000000",
          "2025-06-13T20:40:05.000000",
          "2025-06-13T20:49:12.000000",
          "2025-06-13T21:09:51.000000",
          "2025-06-13T21:19:58.000000",
          "2025-06-13T21:40:13.000000",
          "2025-06-13T21:49:45.000000",
          "2025-06-13T22:10:02.000000",
          "2025-06-13T22:20:11.000000",
          "2025-06-13T22:39:25.000000",
          "2025-06-13T22:49:31.000000",
          "2025-06-13T23:09:44.000000",
          "2025-06-13T23:19:52.000000",
          "2025-06-13T23:40:08.000000",
          "2025-06-13T23:50:14.000000",
          "2025-06-14T00:09:28.000000",
          "2025-06-14T00:19:36.000000",
          "2025-06-14T00:39:50.000000",
          "2025-06-14T00:49:57.000000",
          "2025-06-14T01:10:10.000000",
          "2025-06-14T01:19:17.000000",
          "2025-06-14T01:39:30.000000",
          "2025-06-14T01:49:37.000000",
          "2025-06-14T02:09:51.000000",
          "2025-06-14T02:19:58.000000",
          "2025-06-14T02:40:13.000000",
          "2025-06-14T02:50:20.000000",
          "2025-06-14T03:10:02.000000",
          "2025-06-14T03:20:09.000000",
          "2025-06-14T03:39:21.000000",
          "2025-06-14T03:49:29.000000",
          "2025-06-14T04:09:41.000000",
          "2025-06-14T04:17:47.000000",
          "2025-06-14T04:39:51.000000",
          "2025-06-14T04:49:57.000000",
          "2025-06-14T05:09:38.000000",
          "2025-06-14T05:20:12.000000",
          "2025-06-14T05:39:28.000000",
          "2025-06-14T05:49:35.000000",
          "2025-06-14T06:10:12.000000",
          "2025-06-14T06:20:19.000000",
          "2025-06-14T06:39:30.000000",
          "2025-06-14T06:49:37.000000",
          "2025-06-14T07:09:53.000000",
          "2025-06-14T07:20:00.000000",
          "2025-06-14T07:40:16.000000",
          "2025-06-14T07:49:47.000000",
          "2025-06-14T08:10:25.000000",
          "2025-06-14T08:20:32.000000",
          "2025-06-14T08:39:46.000000",
          "2025-06-14T08:49:53.000000",
          "2025-06-14T09:09:06.000000",
          "2025-06-14T09:19:13.000000",
          "2025-06-14T09:40:29.000000",
          "2025-06-14T09:49:36.000000",
          "2025-06-14T10:09:49.000000",
          "2025-06-14T10:19:56.000000",
          "2025-06-14T10:40:11.000000",
          "2025-06-14T10:49:18.000000",
          "2025-06-14T11:09:33.000000",
          "2025-06-14T11:19:39.000000",
          "2025-06-14T11:39:21.000000",
          "2025-06-14T11:50:30.000000",
          "2025-06-14T12:09:44.000000",
          "2025-06-14T12:19:51.000000",
          "2025-06-14T12:39:29.000000",
          "2025-06-14T12:49:36.000000",
          "2025-06-14T13:10:16.000000",
          "2025-06-14T13:20:23.000000",
          "2025-06-14T13:39:36.000000",
          "2025-06-14T13:49:43.000000",
          "2025-06-14T14:09:57.000000",
          "2025-06-14T14:20:04.000000",
          "2025-06-14T14:39:42.000000",
          "2025-06-14T14:49:14.000000",
          "2025-06-14T15:10:30.000000",
          "2025-06-14T15:19:36.000000",
          "2025-06-14T15:39:14.000000",
          "2025-06-14T15:50:22.000000",
          "2025-06-14T16:09:34.000000",
          "2025-06-14T16:19:42.000000",
          "2025-06-14T16:39:55.000000",
          "2025-06-14T16:49:26.000000",
          "2025-06-14T17:09:40.000000",
          "2025-06-14T17:19:46.000000",
          "2025-06-14T17:40:00.000000",
          "2025-06-14T17:50:07.000000",
          "2025-06-14T18:09:19.000000",
          "2025-06-14T18:20:27.000000",
          "2025-06-14T18:39:40.000000",
          "2025-06-14T18:49:46.000000",
          "2025-06-14T19:10:01.000000",
          "2025-06-14T19:20:09.000000",
          "2025-06-14T19:40:22.000000",
          "2025-06-14T19:49:29.000000",
          "2025-06-14T20:10:08.000000",
          "2025-06-14T20:20:14.000000",
          "2025-06-14T20:39:27.000000",
          "2025-06-14T20:49:34.000000",
          "2025-06-14T21:09:48.000000",
          "2025-06-14T21:19:19.000000",
          "2025-06-14T21:39:57.000000",
          "2025-06-14T21:50:03.000000",
          "2025-06-14T22:09:20.000000",
          "2025-06-14T22:19:27.000000",
          "2025-06-14T22:39:40.000000",
          "2025-06-14T22:49:11.000000",
          "2025-06-14T23:10:25.000000",
          "2025-06-14T23:19:31.000000",
          "2025-06-14T23:40:10.000000",
          "2025-06-14T23:49:17.000000",
          "2025-06-15T00:10:33.000000",
          "2025-06-15T00:19:40.000000",
          "2025-06-15T00:39:53.000000",
          "2025-06-15T00:50:25.000000",
          "2025-06-15T01:10:05.000000",
          "2025-06-15T01:20:11.000000",
          "2025-06-15T01:39:49.000000",
          "2025-06-15T01:49:55.000000",
          "2025-06-15T02:09:08.000000",
          "2025-06-15T02:19:16.000000",
          "2025-06-15T02:39:54.000000",
          "2025-06-15T02:50:01.000000",
          "2025-06-15T03:09:38.000000",
          "2025-06-15T03:19:45.000000",
          "2025-06-15T03:39:59.000000",
          "2025-06-15T03:50:07.000000",
          "2025-06-15T04:09:20.000000",
          "2025-06-15T04:19:26.000000",
          "2025-06-15T04:39:38.000000",
          "2025-06-15T04:49:45.000000",
          "2025-06-15T05:10:03.000000",
          "2025-06-15T05:20:13.000000",
          "2025-06-15T05:39:29.000000",
          "2025-06-15T05:49:36.000000",
          "2025-06-15T06:09:49.000000",
          "2025-06-15T06:19:55.000000",
          "2025-06-15T06:39:08.000000",
          "2025-06-15T06:49:39.000000",
          "2025-06-15T07:09:54.000000",
          "2025-06-15T07:20:26.000000",
          "2025-06-15T07:39:38.000000",
          "2025-06-15T07:49:44.000000",
          "2025-06-15T08:10:23.000000",
          "2025-06-15T08:19:29.000000",
          "2025-06-15T08:40:07.000000",
          "2025-06-15T08:50:14.000000",
          "2025-06-15T09:10:28.000000",
          "2025-06-15T09:19:33.000000",
          "2025-06-15T09:39:45.000000",
          "2025-06-15T09:49:51.000000",
          "2025-06-15T10:10:04.000000",
          "2025-06-15T10:20:11.000000",
          "2025-06-15T10:39:24.000000",
          "2025-06-15T10:49:30.000000",
          "2025-06-15T11:09:42.000000",
          "2025-06-15T11:19:49.000000",
          "2025-06-15T11:40:28.000000",
          "2025-06-15T11:50:00.000000",
          "2025-06-15T12:09:59.000000",
          "2025-06-15T12:19:31.000000",
          "2025-06-15T12:39:44.000000",
          "2025-06-15T12:49:50.000000",
          "2025-06-15T13:10:03.000000",
          "2025-06-15T13:20:10.000000",
          "2025-06-15T13:39:23.000000",
          "2025-06-15T13:50:30.000000",
          "2025-06-15T14:09:45.000000",
          "2025-06-15T14:19:51.000000",
          "2025-06-15T14:40:06.000000",
          "2025-06-15T14:50:13.000000",
          "2025-06-15T15:09:25.000000",
          "2025-06-15T15:19:32.000000",
          "2025-06-15T15:39:44.000000",
          "2025-06-15T15:49:50.000000",
          "2025-06-15T16:10:03.000000",
          "2025-06-15T16:20:12.000000",
          "2025-06-15T16:39:50.000000",
          "2025-06-15T16:49:56.000000",
          "2025-06-15T17:10:08.000000",
          "2025-06-15T17:20:14.000000",
          "2025-06-15T17:39:28.000000",
          "2025-06-15T17:49:35.000000",
          "2025-06-15T18:09:12.000000",
          "2025-06-15T18:19:18.000000",
          "2025-06-15T18:39:56.000000",
          "2025-06-15T18:49:27.000000",
          "2025-06-15T19:09:44.000000",
          "2025-06-15T19:19:51.000000",
          "2025-06-15T19:40:05.000000",
          "2025-06-15T19:50:11.000000",
          "2025-06-15T20:09:23.000000",
          "2025-06-15T20:20:30.000000",
          "2025-06-15T20:39:42.000000",
          "2025-06-15T20:49:49.000000",
          "2025-06-15T21:09:28.000000",
          "2025-06-15T21:19:34.000000",
          "2025-06-15T21:39:46.000000",
          "2025-06-15T21:49:52.000000",
          "2025-06-15T22:10:05.000000",
          "2025-06-15T22:20:12.000000",
          "2025-06-15T22:39:26.000000",
          "2025-06-15T22:49:32.000000",
          "2025-06-15T23:09:44.000000",
          "2025-06-15T23:19:50.000000",
          "2025-06-15T23:40:05.000000",
          "2025-06-15T23:50:12.000000",
          "2025-06-16T00:09:51.000000",
          "2025-06-16T00:19:59.000000",
          "2025-06-16T00:40:13.000000",
          "2025-06-16T00:50:19.000000",
          "2025-06-16T01:09:33.000000",
          "2025-06-16T01:19:41.000000",
          "2025-06-16T01:40:18.000000",
          "2025-06-16T01:49:23.000000",
          "2025-06-16T02:09:40.000000",
          "2025-06-16T02:19:47.000000",
          "2025-06-16T02:40:00.000000",
          "2025-06-16T02:49:06.000000",
          "2025-06-16T03:09:45.000000",
          "2025-06-16T03:19:52.000000",
          "2025-06-16T03:40:05.000000",
          "2025-06-16T03:50:12.000000",
          "2025-06-16T04:10:26.000000",
          "2025-06-16T04:19:33.000000",
          "2025-06-16T04:39:47.000000",
          "2025-06-16T04:50:17.000000",
          "2025-06-16T05:09:56.000000",
          "2025-06-16T05:20:05.000000",
          "2025-06-16T05:40:23.000000",
          "2025-06-16T05:50:31.000000",
          "2025-06-16T06:09:43.000000",
          "2025-06-16T06:20:50.000000",
          "2025-06-16T06:40:03.000000",
          "2025-06-16T06:50:10.000000",
          "2025-06-16T07:09:49.000000",
          "2025-06-16T07:19:55.000000",
          "2025-06-16T07:39:08.000000",
          "2025-06-16T07:50:17.000000",
          "2025-06-16T08:10:24.000000",
          "2025-06-16T08:19:56.000000",
          "2025-06-16T08:39:13.000000",
          "2025-06-16T08:50:21.000000",
          "2025-06-16T09:09:34.000000",
          "2025-06-16T09:19:41.000000",
          "2025-06-16T09:39:57.000000",
          "2025-06-16T09:50:04.000000",
          "2025-06-16T10:10:18.000000",
          "2025-06-16T10:19:24.000000",
          "2025-06-16T10:39:41.000000",
          "2025-06-16T10:49:49.000000",
          "2025-06-16T11:09:34.000000",
          "2025-06-16T11:19:43.000000",
          "2025-06-16T11:40:01.000000",
          "2025-06-16T11:49:10.000000",
          "2025-06-16T12:09:26.000000",
          "2025-06-16T12:19:34.000000",
          "2025-06-16T12:39:53.000000",
          "2025-06-16T12:50:00.000000",
          "2025-06-16T13:09:41.000000",
          "2025-06-16T13:19:49.000000",
          "2025-06-16T13:40:04.000000",
          "2025-06-16T13:49:36.000000",
          "2025-06-16T14:09:50.000000",
          "2025-06-16T14:19:57.000000",
          "2025-06-16T14:40:11.000000",
          "2025-06-16T14:49:18.000000",
          "2025-06-16T15:09:34.000000",
          "2025-06-16T15:19:41.000000",
          "2025-06-16T15:39:54.000000",
          "2025-06-16T15:50:01.000000",
          "2025-06-16T16:10:16.000000",
          "2025-06-16T16:19:23.000000",
          "2025-06-16T16:39:37.000000",
          "2025-06-16T16:49:43.000000",
          "2025-06-16T17:09:57.000000",
          "2025-06-16T17:20:04.000000",
          "2025-06-16T17:39:44.000000",
          "2025-06-16T17:49:51.000000",
          "2025-06-16T18:10:06.000000",
          "2025-06-16T18:20:13.000000",
          "2025-06-16T18:39:41.000000",
          "2025-06-16T18:49:48.000000",
          "2025-06-16T19:10:05.000000",
          "2025-06-16T19:19:13.000000",
          "2025-06-16T19:39:28.000000",
          "2025-06-16T19:49:35.000000",
          "2025-06-16T20:09:49.000000",
          "2025-06-16T20:19:56.000000",
          "2025-06-16T20:40:11.000000",
          "2025-06-16T20:50:18.000000",
          "2025-06-16T21:09:31.000000",
          "2025-06-16T21:20:03.000000",
          "2025-06-16T21:39:41.000000",
          "2025-06-16T21:49:48.000000",
          "2025-06-16T22:09:07.000000",
          "2025-06-16T22:19:17.000000",
          "2025-06-16T22:39:55.000000",
          "2025-06-16T22:50:02.000000",
          "2025-06-16T23:10:17.000000",
          "2025-06-16T23:20:25.000000",
          "2025-06-16T23:39:41.000000",
          "2025-06-16T23:49:47.000000"
         ],
         "xaxis": "x",
         "y": {
          "bdata": "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",
          "dtype": "f8"
         },
         "yaxis": "y"
        },
        {
         "hovertemplate": "variable=Bicis_disponibles<br>Date=%{x}<br>Percentage / Count=%{y}<extra></extra>",
         "legendgroup": "Bicis_disponibles",
         "line": {
          "color": "#EF553B",
          "dash": "solid"
         },
         "marker": {
          "symbol": "circle"
         },
         "mode": "lines",
         "name": "Bicis_disponibles",
         "showlegend": true,
         "type": "scattergl",
         "x": [
          "2025-06-09T23:49:48.000000",
          "2025-06-10T00:10:02.000000",
          "2025-06-10T00:19:11.000000",
          "2025-06-10T00:39:26.000000",
          "2025-06-10T00:49:32.000000",
          "2025-06-10T01:09:46.000000",
          "2025-06-10T01:19:52.000000",
          "2025-06-10T01:39:31.000000",
          "2025-06-10T01:49:37.000000",
          "2025-06-10T02:09:52.000000",
          "2025-06-10T02:19:59.000000",
          "2025-06-10T02:40:14.000000",
          "2025-06-10T02:49:21.000000",
          "2025-06-10T03:09:36.000000",
          "2025-06-10T03:19:43.000000",
          "2025-06-10T03:39:56.000000",
          "2025-06-10T03:50:03.000000",
          "2025-06-10T04:10:17.000000",
          "2025-06-10T04:20:23.000000",
          "2025-06-10T04:39:36.000000",
          "2025-06-10T04:49:43.000000",
          "2025-06-10T05:10:00.000000",
          "2025-06-10T05:20:09.000000",
          "2025-06-10T05:39:26.000000",
          "2025-06-10T05:49:58.000000",
          "2025-06-10T06:09:36.000000",
          "2025-06-10T06:19:43.000000",
          "2025-06-10T06:39:57.000000",
          "2025-06-10T06:50:04.000000",
          "2025-06-10T07:10:18.000000",
          "2025-06-10T07:20:25.000000",
          "2025-06-10T07:39:38.000000",
          "2025-06-10T07:49:44.000000",
          "2025-06-10T08:10:24.000000",
          "2025-06-10T08:19:30.000000",
          "2025-06-10T08:39:45.000000",
          "2025-06-10T08:49:53.000000",
          "2025-06-10T09:10:08.000000",
          "2025-06-10T09:19:23.000000",
          "2025-06-10T09:40:38.000000",
          "2025-06-10T09:50:46.000000",
          "2025-06-10T10:10:25.000000",
          "2025-06-10T10:20:32.000000",
          "2025-06-10T10:42:46.000000",
          "2025-06-10T10:49:16.000000",
          "2025-06-10T11:09:31.000000",
          "2025-06-10T11:19:38.000000",
          "2025-06-10T11:40:19.000000",
          "2025-06-10T11:49:25.000000",
          "2025-06-10T12:10:06.000000",
          "2025-06-10T12:19:13.000000",
          "2025-06-10T12:39:52.000000",
          "2025-06-10T12:49:59.000000",
          "2025-06-10T13:09:18.000000",
          "2025-06-10T13:19:51.000000",
          "2025-06-10T13:40:06.000000",
          "2025-06-10T13:49:14.000000",
          "2025-06-10T14:09:28.000000",
          "2025-06-10T14:20:00.000000",
          "2025-06-10T14:40:17.000000",
          "2025-06-10T14:49:23.000000",
          "2025-06-10T15:09:38.000000",
          "2025-06-10T15:20:46.000000",
          "2025-06-10T15:40:01.000000",
          "2025-06-10T15:49:32.000000",
          "2025-06-10T16:09:45.000000",
          "2025-06-10T16:19:52.000000",
          "2025-06-10T16:40:06.000000",
          "2025-06-10T16:50:13.000000",
          "2025-06-10T17:09:52.000000",
          "2025-06-10T17:20:23.000000",
          "2025-06-10T17:39:38.000000",
          "2025-06-10T17:49:45.000000",
          "2025-06-10T18:09:59.000000",
          "2025-06-10T18:20:06.000000",
          "2025-06-10T18:27:12.000000",
          "2025-06-10T18:49:10.000000",
          "2025-06-10T19:10:26.000000",
          "2025-06-10T19:19:35.000000",
          "2025-06-10T19:39:49.000000",
          "2025-06-10T19:49:56.000000",
          "2025-06-10T20:10:09.000000",
          "2025-06-10T20:19:40.000000",
          "2025-06-10T20:39:21.000000",
          "2025-06-10T20:49:28.000000",
          "2025-06-10T21:10:05.000000",
          "2025-06-10T21:19:11.000000",
          "2025-06-10T21:39:24.000000",
          "2025-06-10T21:49:31.000000",
          "2025-06-10T22:09:49.000000",
          "2025-06-10T22:19:56.000000",
          "2025-06-10T22:39:34.000000",
          "2025-06-10T22:49:41.000000",
          "2025-06-10T23:09:55.000000",
          "2025-06-10T23:20:01.000000",
          "2025-06-10T23:39:21.000000",
          "2025-06-10T23:49:28.000000",
          "2025-06-11T00:10:07.000000",
          "2025-06-11T00:20:17.000000",
          "2025-06-11T00:39:56.000000",
          "2025-06-11T00:50:03.000000",
          "2025-06-11T01:10:19.000000",
          "2025-06-11T01:19:26.000000",
          "2025-06-11T01:39:20.000000",
          "2025-06-11T01:50:28.000000",
          "2025-06-11T02:09:41.000000",
          "2025-06-11T02:19:49.000000",
          "2025-06-11T02:40:02.000000",
          "2025-06-11T02:50:10.000000",
          "2025-06-11T03:09:24.000000",
          "2025-06-11T03:19:30.000000",
          "2025-06-11T03:40:09.000000",
          "2025-06-11T03:49:39.000000",
          "2025-06-11T04:09:52.000000",
          "2025-06-11T04:20:00.000000",
          "2025-06-11T04:39:38.000000",
          "2025-06-11T04:49:45.000000",
          "2025-06-11T05:09:25.000000",
          "2025-06-11T05:20:00.000000",
          "2025-06-11T05:39:42.000000",
          "2025-06-11T05:49:49.000000",
          "2025-06-11T06:10:02.000000",
          "2025-06-11T06:19:08.000000",
          "2025-06-11T06:40:23.000000",
          "2025-06-11T06:49:54.000000",
          "2025-06-11T07:10:10.000000",
          "2025-06-11T07:19:17.000000",
          "2025-06-11T07:39:30.000000",
          "2025-06-11T07:49:40.000000",
          "2025-06-11T08:09:30.000000",
          "2025-06-11T08:19:39.000000",
          "2025-06-11T08:39:54.000000",
          "2025-06-11T08:50:03.000000",
          "2025-06-11T09:09:42.000000",
          "2025-06-11T09:19:50.000000",
          "2025-06-11T09:40:06.000000",
          "2025-06-11T09:50:14.000000",
          "2025-06-11T10:09:51.000000",
          "2025-06-11T10:19:59.000000",
          "2025-06-11T10:40:16.000000",
          "2025-06-11T10:50:23.000000",
          "2025-06-11T11:10:37.000000",
          "2025-06-11T11:19:42.000000",
          "2025-06-11T11:39:26.000000",
          "2025-06-11T11:49:33.000000",
          "2025-06-11T12:09:47.000000",
          "2025-06-11T12:19:54.000000",
          "2025-06-11T12:39:08.000000",
          "2025-06-11T12:50:16.000000",
          "2025-06-11T13:09:31.000000",
          "2025-06-11T13:29:45.000000",
          "2025-06-11T13:39:53.000000",
          "2025-06-11T13:50:00.000000",
          "2025-06-11T14:10:18.000000",
          "2025-06-11T14:19:25.000000",
          "2025-06-11T14:39:40.000000",
          "2025-06-11T14:49:48.000000",
          "2025-06-11T15:10:04.000000",
          "2025-06-11T15:20:11.000000",
          "2025-06-11T15:39:50.000000",
          "2025-06-11T15:49:58.000000",
          "2025-06-11T16:10:13.000000",
          "2025-06-11T16:20:46.000000",
          "2025-06-11T16:40:24.000000",
          "2025-06-11T16:49:30.000000",
          "2025-06-11T17:09:44.000000",
          "2025-06-11T17:19:51.000000",
          "2025-06-11T17:40:07.000000",
          "2025-06-11T17:50:15.000000",
          "2025-06-11T18:09:27.000000",
          "2025-06-11T18:19:35.000000",
          "2025-06-11T18:39:50.000000",
          "2025-06-11T18:49:57.000000",
          "2025-06-11T19:10:12.000000",
          "2025-06-11T19:20:21.000000",
          "2025-06-11T19:39:35.000000",
          "2025-06-11T19:49:42.000000",
          "2025-06-11T20:09:56.000000",
          "2025-06-11T20:20:03.000000",
          "2025-06-11T20:39:17.000000",
          "2025-06-11T20:50:25.000000",
          "2025-06-11T21:09:39.000000",
          "2025-06-11T21:19:46.000000",
          "2025-06-11T21:39:59.000000",
          "2025-06-11T21:50:06.000000",
          "2025-06-11T22:09:25.000000",
          "2025-06-11T22:19:33.000000",
          "2025-06-11T22:39:48.000000",
          "2025-06-11T22:49:55.000000",
          "2025-06-11T23:09:09.000000",
          "2025-06-11T23:19:16.000000",
          "2025-06-11T23:39:33.000000",
          "2025-06-11T23:50:05.000000",
          "2025-06-12T00:10:19.000000",
          "2025-06-12T00:19:27.000000",
          "2025-06-12T00:39:43.000000",
          "2025-06-12T00:49:50.000000",
          "2025-06-12T01:10:03.000000",
          "2025-06-12T01:19:34.000000",
          "2025-06-12T01:39:46.000000",
          "2025-06-12T01:49:54.000000",
          "2025-06-12T02:09:08.000000",
          "2025-06-12T02:20:17.000000",
          "2025-06-12T02:39:31.000000",
          "2025-06-12T02:49:38.000000",
          "2025-06-12T03:09:52.000000",
          "2025-06-12T03:19:23.000000",
          "2025-06-12T03:39:36.000000",
          "2025-06-12T03:49:42.000000",
          "2025-06-12T04:09:55.000000",
          "2025-06-12T04:20:03.000000",
          "2025-06-12T04:40:16.000000",
          "2025-06-12T04:50:23.000000",
          "2025-06-12T05:09:38.000000",
          "2025-06-12T05:19:47.000000",
          "2025-06-12T05:40:04.000000",
          "2025-06-12T05:50:12.000000",
          "2025-06-12T06:10:25.000000",
          "2025-06-12T06:20:32.000000",
          "2025-06-12T06:39:46.000000",
          "2025-06-12T06:49:52.000000",
          "2025-06-12T07:10:07.000000",
          "2025-06-12T07:19:14.000000",
          "2025-06-12T07:39:54.000000",
          "2025-06-12T07:50:07.000000",
          "2025-06-12T08:09:42.000000",
          "2025-06-12T08:20:05.000000",
          "2025-06-12T08:39:36.000000",
          "2025-06-12T08:49:45.000000",
          "2025-06-12T09:09:41.000000",
          "2025-06-12T09:19:48.000000",
          "2025-06-12T09:40:17.000000",
          "2025-06-12T09:49:49.000000",
          "2025-06-12T10:10:04.000000",
          "2025-06-12T10:19:10.000000",
          "2025-06-12T10:39:24.000000",
          "2025-06-12T10:49:32.000000",
          "2025-06-12T11:09:48.000000",
          "2025-06-12T11:19:56.000000",
          "2025-06-12T11:40:12.000000",
          "2025-06-12T11:49:19.000000",
          "2025-06-12T12:10:00.000000",
          "2025-06-12T12:20:08.000000",
          "2025-06-12T12:39:24.000000",
          "2025-06-12T12:49:31.000000",
          "2025-06-12T13:09:47.000000",
          "2025-06-12T13:19:54.000000",
          "2025-06-12T13:40:10.000000",
          "2025-06-12T13:50:19.000000",
          "2025-06-12T14:09:33.000000",
          "2025-06-12T14:19:41.000000",
          "2025-06-12T14:39:56.000000",
          "2025-06-12T14:50:04.000000",
          "2025-06-12T15:10:21.000000",
          "2025-06-12T15:20:29.000000",
          "2025-06-12T15:39:42.000000",
          "2025-06-12T15:49:50.000000",
          "2025-06-12T16:10:28.000000",
          "2025-06-12T16:19:34.000000",
          "2025-06-12T16:39:49.000000",
          "2025-06-12T16:49:56.000000",
          "2025-06-12T17:10:11.000000",
          "2025-06-12T17:20:19.000000",
          "2025-06-12T17:39:59.000000",
          "2025-06-12T17:50:07.000000",
          "2025-06-12T18:10:22.000000",
          "2025-06-12T18:19:28.000000",
          "2025-06-12T18:40:09.000000",
          "2025-06-12T18:50:16.000000",
          "2025-06-12T19:09:34.000000",
          "2025-06-12T19:19:47.000000",
          "2025-06-12T19:39:29.000000",
          "2025-06-12T19:50:01.000000",
          "2025-06-12T20:09:15.000000",
          "2025-06-12T20:19:23.000000",
          "2025-06-12T20:39:41.000000",
          "2025-06-12T20:49:48.000000",
          "2025-06-12T21:10:03.000000",
          "2025-06-12T21:20:12.000000",
          "2025-06-12T21:39:27.000000",
          "2025-06-12T21:49:36.000000",
          "2025-06-12T22:09:56.000000",
          "2025-06-12T22:19:04.000000",
          "2025-06-12T22:39:44.000000",
          "2025-06-12T22:49:52.000000",
          "2025-06-12T23:10:07.000000",
          "2025-06-12T23:19:39.000000",
          "2025-06-12T23:39:55.000000",
          "2025-06-12T23:50:02.000000",
          "2025-06-13T00:10:18.000000",
          "2025-06-13T00:19:56.000000",
          "2025-06-13T00:39:15.000000",
          "2025-06-13T00:49:22.000000",
          "2025-06-13T01:10:05.000000",
          "2025-06-13T01:19:12.000000",
          "2025-06-13T01:39:52.000000",
          "2025-06-13T01:49:58.000000",
          "2025-06-13T02:10:16.000000",
          "2025-06-13T02:19:23.000000",
          "2025-06-13T02:39:38.000000",
          "2025-06-13T02:49:47.000000",
          "2025-06-13T03:09:27.000000",
          "2025-06-13T03:19:35.000000",
          "2025-06-13T03:39:18.000000",
          "2025-06-13T03:49:27.000000",
          "2025-06-13T04:09:43.000000",
          "2025-06-13T04:19:50.000000",
          "2025-06-13T04:40:05.000000",
          "2025-06-13T04:50:14.000000",
          "2025-06-13T05:09:30.000000",
          "2025-06-13T05:19:38.000000",
          "2025-06-13T05:40:01.000000",
          "2025-06-13T05:49:36.000000",
          "2025-06-13T06:09:17.000000",
          "2025-06-13T06:19:25.000000",
          "2025-06-13T06:39:38.000000",
          "2025-06-13T06:49:45.000000",
          "2025-06-13T07:10:26.000000",
          "2025-06-13T07:19:33.000000",
          "2025-06-13T07:39:47.000000",
          "2025-06-13T07:49:56.000000",
          "2025-06-13T08:09:25.000000",
          "2025-06-13T08:19:33.000000",
          "2025-06-13T08:39:48.000000",
          "2025-06-13T08:49:55.000000",
          "2025-06-13T09:10:11.000000",
          "2025-06-13T09:20:19.000000",
          "2025-06-13T09:39:59.000000",
          "2025-06-13T09:50:06.000000",
          "2025-06-13T10:09:22.000000",
          "2025-06-13T10:19:29.000000",
          "2025-06-13T10:40:09.000000",
          "2025-06-13T10:50:17.000000",
          "2025-06-13T11:10:32.000000",
          "2025-06-13T11:19:39.000000",
          "2025-06-13T11:40:13.000000",
          "2025-06-13T11:49:20.000000",
          "2025-06-13T12:09:36.000000",
          "2025-06-13T12:19:44.000000",
          "2025-06-13T12:40:24.000000",
          "2025-06-13T12:49:31.000000",
          "2025-06-13T13:10:14.000000",
          "2025-06-13T13:19:46.000000",
          "2025-06-13T13:40:02.000000",
          "2025-06-13T13:50:11.000000",
          "2025-06-13T14:09:27.000000",
          "2025-06-13T14:19:34.000000",
          "2025-06-13T14:39:50.000000",
          "2025-06-13T14:50:22.000000",
          "2025-06-13T15:09:36.000000",
          "2025-06-13T15:19:43.000000",
          "2025-06-13T15:39:58.000000",
          "2025-06-13T15:50:05.000000",
          "2025-06-13T16:10:20.000000",
          "2025-06-13T16:19:27.000000",
          "2025-06-13T16:39:07.000000",
          "2025-06-13T16:49:40.000000",
          "2025-06-13T17:09:53.000000",
          "2025-06-13T17:20:01.000000",
          "2025-06-13T17:40:18.000000",
          "2025-06-13T17:49:24.000000",
          "2025-06-13T18:09:38.000000",
          "2025-06-13T18:19:45.000000",
          "2025-06-13T18:40:01.000000",
          "2025-06-13T18:50:09.000000",
          "2025-06-13T19:09:25.000000",
          "2025-06-13T19:19:38.000000",
          "2025-06-13T19:39:18.000000",
          "2025-06-13T19:49:25.000000",
          "2025-06-13T20:09:39.000000",
          "2025-06-13T20:19:47.000000",
          "2025-06-13T20:40:05.000000",
          "2025-06-13T20:49:12.000000",
          "2025-06-13T21:09:51.000000",
          "2025-06-13T21:19:58.000000",
          "2025-06-13T21:40:13.000000",
          "2025-06-13T21:49:45.000000",
          "2025-06-13T22:10:02.000000",
          "2025-06-13T22:20:11.000000",
          "2025-06-13T22:39:25.000000",
          "2025-06-13T22:49:31.000000",
          "2025-06-13T23:09:44.000000",
          "2025-06-13T23:19:52.000000",
          "2025-06-13T23:40:08.000000",
          "2025-06-13T23:50:14.000000",
          "2025-06-14T00:09:28.000000",
          "2025-06-14T00:19:36.000000",
          "2025-06-14T00:39:50.000000",
          "2025-06-14T00:49:57.000000",
          "2025-06-14T01:10:10.000000",
          "2025-06-14T01:19:17.000000",
          "2025-06-14T01:39:30.000000",
          "2025-06-14T01:49:37.000000",
          "2025-06-14T02:09:51.000000",
          "2025-06-14T02:19:58.000000",
          "2025-06-14T02:40:13.000000",
          "2025-06-14T02:50:20.000000",
          "2025-06-14T03:10:02.000000",
          "2025-06-14T03:20:09.000000",
          "2025-06-14T03:39:21.000000",
          "2025-06-14T03:49:29.000000",
          "2025-06-14T04:09:41.000000",
          "2025-06-14T04:17:47.000000",
          "2025-06-14T04:39:51.000000",
          "2025-06-14T04:49:57.000000",
          "2025-06-14T05:09:38.000000",
          "2025-06-14T05:20:12.000000",
          "2025-06-14T05:39:28.000000",
          "2025-06-14T05:49:35.000000",
          "2025-06-14T06:10:12.000000",
          "2025-06-14T06:20:19.000000",
          "2025-06-14T06:39:30.000000",
          "2025-06-14T06:49:37.000000",
          "2025-06-14T07:09:53.000000",
          "2025-06-14T07:20:00.000000",
          "2025-06-14T07:40:16.000000",
          "2025-06-14T07:49:47.000000",
          "2025-06-14T08:10:25.000000",
          "2025-06-14T08:20:32.000000",
          "2025-06-14T08:39:46.000000",
          "2025-06-14T08:49:53.000000",
          "2025-06-14T09:09:06.000000",
          "2025-06-14T09:19:13.000000",
          "2025-06-14T09:40:29.000000",
          "2025-06-14T09:49:36.000000",
          "2025-06-14T10:09:49.000000",
          "2025-06-14T10:19:56.000000",
          "2025-06-14T10:40:11.000000",
          "2025-06-14T10:49:18.000000",
          "2025-06-14T11:09:33.000000",
          "2025-06-14T11:19:39.000000",
          "2025-06-14T11:39:21.000000",
          "2025-06-14T11:50:30.000000",
          "2025-06-14T12:09:44.000000",
          "2025-06-14T12:19:51.000000",
          "2025-06-14T12:39:29.000000",
          "2025-06-14T12:49:36.000000",
          "2025-06-14T13:10:16.000000",
          "2025-06-14T13:20:23.000000",
          "2025-06-14T13:39:36.000000",
          "2025-06-14T13:49:43.000000",
          "2025-06-14T14:09:57.000000",
          "2025-06-14T14:20:04.000000",
          "2025-06-14T14:39:42.000000",
          "2025-06-14T14:49:14.000000",
          "2025-06-14T15:10:30.000000",
          "2025-06-14T15:19:36.000000",
          "2025-06-14T15:39:14.000000",
          "2025-06-14T15:50:22.000000",
          "2025-06-14T16:09:34.000000",
          "2025-06-14T16:19:42.000000",
          "2025-06-14T16:39:55.000000",
          "2025-06-14T16:49:26.000000",
          "2025-06-14T17:09:40.000000",
          "2025-06-14T17:19:46.000000",
          "2025-06-14T17:40:00.000000",
          "2025-06-14T17:50:07.000000",
          "2025-06-14T18:09:19.000000",
          "2025-06-14T18:20:27.000000",
          "2025-06-14T18:39:40.000000",
          "2025-06-14T18:49:46.000000",
          "2025-06-14T19:10:01.000000",
          "2025-06-14T19:20:09.000000",
          "2025-06-14T19:40:22.000000",
          "2025-06-14T19:49:29.000000",
          "2025-06-14T20:10:08.000000",
          "2025-06-14T20:20:14.000000",
          "2025-06-14T20:39:27.000000",
          "2025-06-14T20:49:34.000000",
          "2025-06-14T21:09:48.000000",
          "2025-06-14T21:19:19.000000",
          "2025-06-14T21:39:57.000000",
          "2025-06-14T21:50:03.000000",
          "2025-06-14T22:09:20.000000",
          "2025-06-14T22:19:27.000000",
          "2025-06-14T22:39:40.000000",
          "2025-06-14T22:49:11.000000",
          "2025-06-14T23:10:25.000000",
          "2025-06-14T23:19:31.000000",
          "2025-06-14T23:40:10.000000",
          "2025-06-14T23:49:17.000000",
          "2025-06-15T00:10:33.000000",
          "2025-06-15T00:19:40.000000",
          "2025-06-15T00:39:53.000000",
          "2025-06-15T00:50:25.000000",
          "2025-06-15T01:10:05.000000",
          "2025-06-15T01:20:11.000000",
          "2025-06-15T01:39:49.000000",
          "2025-06-15T01:49:55.000000",
          "2025-06-15T02:09:08.000000",
          "2025-06-15T02:19:16.000000",
          "2025-06-15T02:39:54.000000",
          "2025-06-15T02:50:01.000000",
          "2025-06-15T03:09:38.000000",
          "2025-06-15T03:19:45.000000",
          "2025-06-15T03:39:59.000000",
          "2025-06-15T03:50:07.000000",
          "2025-06-15T04:09:20.000000",
          "2025-06-15T04:19:26.000000",
          "2025-06-15T04:39:38.000000",
          "2025-06-15T04:49:45.000000",
          "2025-06-15T05:10:03.000000",
          "2025-06-15T05:20:13.000000",
          "2025-06-15T05:39:29.000000",
          "2025-06-15T05:49:36.000000",
          "2025-06-15T06:09:49.000000",
          "2025-06-15T06:19:55.000000",
          "2025-06-15T06:39:08.000000",
          "2025-06-15T06:49:39.000000",
          "2025-06-15T07:09:54.000000",
          "2025-06-15T07:20:26.000000",
          "2025-06-15T07:39:38.000000",
          "2025-06-15T07:49:44.000000",
          "2025-06-15T08:10:23.000000",
          "2025-06-15T08:19:29.000000",
          "2025-06-15T08:40:07.000000",
          "2025-06-15T08:50:14.000000",
          "2025-06-15T09:10:28.000000",
          "2025-06-15T09:19:33.000000",
          "2025-06-15T09:39:45.000000",
          "2025-06-15T09:49:51.000000",
          "2025-06-15T10:10:04.000000",
          "2025-06-15T10:20:11.000000",
          "2025-06-15T10:39:24.000000",
          "2025-06-15T10:49:30.000000",
          "2025-06-15T11:09:42.000000",
          "2025-06-15T11:19:49.000000",
          "2025-06-15T11:40:28.000000",
          "2025-06-15T11:50:00.000000",
          "2025-06-15T12:09:59.000000",
          "2025-06-15T12:19:31.000000",
          "2025-06-15T12:39:44.000000",
          "2025-06-15T12:49:50.000000",
          "2025-06-15T13:10:03.000000",
          "2025-06-15T13:20:10.000000",
          "2025-06-15T13:39:23.000000",
          "2025-06-15T13:50:30.000000",
          "2025-06-15T14:09:45.000000",
          "2025-06-15T14:19:51.000000",
          "2025-06-15T14:40:06.000000",
          "2025-06-15T14:50:13.000000",
          "2025-06-15T15:09:25.000000",
          "2025-06-15T15:19:32.000000",
          "2025-06-15T15:39:44.000000",
          "2025-06-15T15:49:50.000000",
          "2025-06-15T16:10:03.000000",
          "2025-06-15T16:20:12.000000",
          "2025-06-15T16:39:50.000000",
          "2025-06-15T16:49:56.000000",
          "2025-06-15T17:10:08.000000",
          "2025-06-15T17:20:14.000000",
          "2025-06-15T17:39:28.000000",
          "2025-06-15T17:49:35.000000",
          "2025-06-15T18:09:12.000000",
          "2025-06-15T18:19:18.000000",
          "2025-06-15T18:39:56.000000",
          "2025-06-15T18:49:27.000000",
          "2025-06-15T19:09:44.000000",
          "2025-06-15T19:19:51.000000",
          "2025-06-15T19:40:05.000000",
          "2025-06-15T19:50:11.000000",
          "2025-06-15T20:09:23.000000",
          "2025-06-15T20:20:30.000000",
          "2025-06-15T20:39:42.000000",
          "2025-06-15T20:49:49.000000",
          "2025-06-15T21:09:28.000000",
          "2025-06-15T21:19:34.000000",
          "2025-06-15T21:39:46.000000",
          "2025-06-15T21:49:52.000000",
          "2025-06-15T22:10:05.000000",
          "2025-06-15T22:20:12.000000",
          "2025-06-15T22:39:26.000000",
          "2025-06-15T22:49:32.000000",
          "2025-06-15T23:09:44.000000",
          "2025-06-15T23:19:50.000000",
          "2025-06-15T23:40:05.000000",
          "2025-06-15T23:50:12.000000",
          "2025-06-16T00:09:51.000000",
          "2025-06-16T00:19:59.000000",
          "2025-06-16T00:40:13.000000",
          "2025-06-16T00:50:19.000000",
          "2025-06-16T01:09:33.000000",
          "2025-06-16T01:19:41.000000",
          "2025-06-16T01:40:18.000000",
          "2025-06-16T01:49:23.000000",
          "2025-06-16T02:09:40.000000",
          "2025-06-16T02:19:47.000000",
          "2025-06-16T02:40:00.000000",
          "2025-06-16T02:49:06.000000",
          "2025-06-16T03:09:45.000000",
          "2025-06-16T03:19:52.000000",
          "2025-06-16T03:40:05.000000",
          "2025-06-16T03:50:12.000000",
          "2025-06-16T04:10:26.000000",
          "2025-06-16T04:19:33.000000",
          "2025-06-16T04:39:47.000000",
          "2025-06-16T04:50:17.000000",
          "2025-06-16T05:09:56.000000",
          "2025-06-16T05:20:05.000000",
          "2025-06-16T05:40:23.000000",
          "2025-06-16T05:50:31.000000",
          "2025-06-16T06:09:43.000000",
          "2025-06-16T06:20:50.000000",
          "2025-06-16T06:40:03.000000",
          "2025-06-16T06:50:10.000000",
          "2025-06-16T07:09:49.000000",
          "2025-06-16T07:19:55.000000",
          "2025-06-16T07:39:08.000000",
          "2025-06-16T07:50:17.000000",
          "2025-06-16T08:10:24.000000",
          "2025-06-16T08:19:56.000000",
          "2025-06-16T08:39:13.000000",
          "2025-06-16T08:50:21.000000",
          "2025-06-16T09:09:34.000000",
          "2025-06-16T09:19:41.000000",
          "2025-06-16T09:39:57.000000",
          "2025-06-16T09:50:04.000000",
          "2025-06-16T10:10:18.000000",
          "2025-06-16T10:19:24.000000",
          "2025-06-16T10:39:41.000000",
          "2025-06-16T10:49:49.000000",
          "2025-06-16T11:09:34.000000",
          "2025-06-16T11:19:43.000000",
          "2025-06-16T11:40:01.000000",
          "2025-06-16T11:49:10.000000",
          "2025-06-16T12:09:26.000000",
          "2025-06-16T12:19:34.000000",
          "2025-06-16T12:39:53.000000",
          "2025-06-16T12:50:00.000000",
          "2025-06-16T13:09:41.000000",
          "2025-06-16T13:19:49.000000",
          "2025-06-16T13:40:04.000000",
          "2025-06-16T13:49:36.000000",
          "2025-06-16T14:09:50.000000",
          "2025-06-16T14:19:57.000000",
          "2025-06-16T14:40:11.000000",
          "2025-06-16T14:49:18.000000",
          "2025-06-16T15:09:34.000000",
          "2025-06-16T15:19:41.000000",
          "2025-06-16T15:39:54.000000",
          "2025-06-16T15:50:01.000000",
          "2025-06-16T16:10:16.000000",
          "2025-06-16T16:19:23.000000",
          "2025-06-16T16:39:37.000000",
          "2025-06-16T16:49:43.000000",
          "2025-06-16T17:09:57.000000",
          "2025-06-16T17:20:04.000000",
          "2025-06-16T17:39:44.000000",
          "2025-06-16T17:49:51.000000",
          "2025-06-16T18:10:06.000000",
          "2025-06-16T18:20:13.000000",
          "2025-06-16T18:39:41.000000",
          "2025-06-16T18:49:48.000000",
          "2025-06-16T19:10:05.000000",
          "2025-06-16T19:19:13.000000",
          "2025-06-16T19:39:28.000000",
          "2025-06-16T19:49:35.000000",
          "2025-06-16T20:09:49.000000",
          "2025-06-16T20:19:56.000000",
          "2025-06-16T20:40:11.000000",
          "2025-06-16T20:50:18.000000",
          "2025-06-16T21:09:31.000000",
          "2025-06-16T21:20:03.000000",
          "2025-06-16T21:39:41.000000",
          "2025-06-16T21:49:48.000000",
          "2025-06-16T22:09:07.000000",
          "2025-06-16T22:19:17.000000",
          "2025-06-16T22:39:55.000000",
          "2025-06-16T22:50:02.000000",
          "2025-06-16T23:10:17.000000",
          "2025-06-16T23:20:25.000000",
          "2025-06-16T23:39:41.000000",
          "2025-06-16T23:49:47.000000"
         ],
         "xaxis": "x",
         "y": {
          "bdata": "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",
          "dtype": "f8"
         },
         "yaxis": "y"
        }
       ],
       "layout": {
        "legend": {
         "title": {
          "text": "variable"
         },
         "tracegroupgap": 0
        },
        "template": {
         "data": {
          "bar": [
           {
            "error_x": {
             "color": "#2a3f5f"
            },
            "error_y": {
             "color": "#2a3f5f"
            },
            "marker": {
             "line": {
              "color": "#E5ECF6",
              "width": 0.5
             },
             "pattern": {
              "fillmode": "overlay",
              "size": 10,
              "solidity": 0.2
             }
            },
            "type": "bar"
           }
          ],
          "barpolar": [
           {
            "marker": {
             "line": {
              "color": "#E5ECF6",
              "width": 0.5
             },
             "pattern": {
              "fillmode": "overlay",
              "size": 10,
              "solidity": 0.2
             }
            },
            "type": "barpolar"
           }
          ],
          "carpet": [
           {
            "aaxis": {
             "endlinecolor": "#2a3f5f",
             "gridcolor": "white",
             "linecolor": "white",
             "minorgridcolor": "white",
             "startlinecolor": "#2a3f5f"
            },
            "baxis": {
             "endlinecolor": "#2a3f5f",
             "gridcolor": "white",
             "linecolor": "white",
             "minorgridcolor": "white",
             "startlinecolor": "#2a3f5f"
            },
            "type": "carpet"
           }
          ],
          "choropleth": [
           {
            "colorbar": {
             "outlinewidth": 0,
             "ticks": ""
            },
            "type": "choropleth"
           }
          ],
          "contour": [
           {
            "colorbar": {
             "outlinewidth": 0,
             "ticks": ""
            },
            "colorscale": [
             [
              0,
              "#0d0887"
             ],
             [
              0.1111111111111111,
              "#46039f"
             ],
             [
              0.2222222222222222,
              "#7201a8"
             ],
             [
              0.3333333333333333,
              "#9c179e"
             ],
             [
              0.4444444444444444,
              "#bd3786"
             ],
             [
              0.5555555555555556,
              "#d8576b"
             ],
             [
              0.6666666666666666,
              "#ed7953"
             ],
             [
              0.7777777777777778,
              "#fb9f3a"
             ],
             [
              0.8888888888888888,
              "#fdca26"
             ],
             [
              1,
              "#f0f921"
             ]
            ],
            "type": "contour"
           }
          ],
          "contourcarpet": [
           {
            "colorbar": {
             "outlinewidth": 0,
             "ticks": ""
            },
            "type": "contourcarpet"
           }
          ],
          "heatmap": [
           {
            "colorbar": {
             "outlinewidth": 0,
             "ticks": ""
            },
            "colorscale": [
             [
              0,
              "#0d0887"
             ],
             [
              0.1111111111111111,
              "#46039f"
             ],
             [
              0.2222222222222222,
              "#7201a8"
             ],
             [
              0.3333333333333333,
              "#9c179e"
             ],
             [
              0.4444444444444444,
              "#bd3786"
             ],
             [
              0.5555555555555556,
              "#d8576b"
             ],
             [
              0.6666666666666666,
              "#ed7953"
             ],
             [
              0.7777777777777778,
              "#fb9f3a"
             ],
             [
              0.8888888888888888,
              "#fdca26"
             ],
             [
              1,
              "#f0f921"
             ]
            ],
            "type": "heatmap"
           }
          ],
          "histogram": [
           {
            "marker": {
             "pattern": {
              "fillmode": "overlay",
              "size": 10,
              "solidity": 0.2
             }
            },
            "type": "histogram"
           }
          ],
          "histogram2d": [
           {
            "colorbar": {
             "outlinewidth": 0,
             "ticks": ""
            },
            "colorscale": [
             [
              0,
              "#0d0887"
             ],
             [
              0.1111111111111111,
              "#46039f"
             ],
             [
              0.2222222222222222,
              "#7201a8"
             ],
             [
              0.3333333333333333,
              "#9c179e"
             ],
             [
              0.4444444444444444,
              "#bd3786"
             ],
             [
              0.5555555555555556,
              "#d8576b"
             ],
             [
              0.6666666666666666,
              "#ed7953"
             ],
             [
              0.7777777777777778,
              "#fb9f3a"
             ],
             [
              0.8888888888888888,
              "#fdca26"
             ],
             [
              1,
              "#f0f921"
             ]
            ],
            "type": "histogram2d"
           }
          ],
          "histogram2dcontour": [
           {
            "colorbar": {
             "outlinewidth": 0,
             "ticks": ""
            },
            "colorscale": [
             [
              0,
              "#0d0887"
             ],
             [
              0.1111111111111111,
              "#46039f"
             ],
             [
              0.2222222222222222,
              "#7201a8"
             ],
             [
              0.3333333333333333,
              "#9c179e"
             ],
             [
              0.4444444444444444,
              "#bd3786"
             ],
             [
              0.5555555555555556,
              "#d8576b"
             ],
             [
              0.6666666666666666,
              "#ed7953"
             ],
             [
              0.7777777777777778,
              "#fb9f3a"
             ],
             [
              0.8888888888888888,
              "#fdca26"
             ],
             [
              1,
              "#f0f921"
             ]
            ],
            "type": "histogram2dcontour"
           }
          ],
          "mesh3d": [
           {
            "colorbar": {
             "outlinewidth": 0,
             "ticks": ""
            },
            "type": "mesh3d"
           }
          ],
          "parcoords": [
           {
            "line": {
             "colorbar": {
              "outlinewidth": 0,
              "ticks": ""
             }
            },
            "type": "parcoords"
           }
          ],
          "pie": [
           {
            "automargin": true,
            "type": "pie"
           }
          ],
          "scatter": [
           {
            "fillpattern": {
             "fillmode": "overlay",
             "size": 10,
             "solidity": 0.2
            },
            "type": "scatter"
           }
          ],
          "scatter3d": [
           {
            "line": {
             "colorbar": {
              "outlinewidth": 0,
              "ticks": ""
             }
            },
            "marker": {
             "colorbar": {
              "outlinewidth": 0,
              "ticks": ""
             }
            },
            "type": "scatter3d"
           }
          ],
          "scattercarpet": [
           {
            "marker": {
             "colorbar": {
              "outlinewidth": 0,
              "ticks": ""
             }
            },
            "type": "scattercarpet"
           }
          ],
          "scattergeo": [
           {
            "marker": {
             "colorbar": {
              "outlinewidth": 0,
              "ticks": ""
             }
            },
            "type": "scattergeo"
           }
          ],
          "scattergl": [
           {
            "marker": {
             "colorbar": {
              "outlinewidth": 0,
              "ticks": ""
             }
            },
            "type": "scattergl"
           }
          ],
          "scattermap": [
           {
            "marker": {
             "colorbar": {
              "outlinewidth": 0,
              "ticks": ""
             }
            },
            "type": "scattermap"
           }
          ],
          "scattermapbox": [
           {
            "marker": {
             "colorbar": {
              "outlinewidth": 0,
              "ticks": ""
             }
            },
            "type": "scattermapbox"
           }
          ],
          "scatterpolar": [
           {
            "marker": {
             "colorbar": {
              "outlinewidth": 0,
              "ticks": ""
             }
            },
            "type": "scatterpolar"
           }
          ],
          "scatterpolargl": [
           {
            "marker": {
             "colorbar": {
              "outlinewidth": 0,
              "ticks": ""
             }
            },
            "type": "scatterpolargl"
           }
          ],
          "scatterternary": [
           {
            "marker": {
             "colorbar": {
              "outlinewidth": 0,
              "ticks": ""
             }
            },
            "type": "scatterternary"
           }
          ],
          "surface": [
           {
            "colorbar": {
             "outlinewidth": 0,
             "ticks": ""
            },
            "colorscale": [
             [
              0,
              "#0d0887"
             ],
             [
              0.1111111111111111,
              "#46039f"
             ],
             [
              0.2222222222222222,
              "#7201a8"
             ],
             [
              0.3333333333333333,
              "#9c179e"
             ],
             [
              0.4444444444444444,
              "#bd3786"
             ],
             [
              0.5555555555555556,
              "#d8576b"
             ],
             [
              0.6666666666666666,
              "#ed7953"
             ],
             [
              0.7777777777777778,
              "#fb9f3a"
             ],
             [
              0.8888888888888888,
              "#fdca26"
             ],
             [
              1,
              "#f0f921"
             ]
            ],
            "type": "surface"
           }
          ],
          "table": [
           {
            "cells": {
             "fill": {
              "color": "#EBF0F8"
             },
             "line": {
              "color": "white"
             }
            },
            "header": {
             "fill": {
              "color": "#C8D4E3"
             },
             "line": {
              "color": "white"
             }
            },
            "type": "table"
           }
          ]
         },
         "layout": {
          "annotationdefaults": {
           "arrowcolor": "#2a3f5f",
           "arrowhead": 0,
           "arrowwidth": 1
          },
          "autotypenumbers": "strict",
          "coloraxis": {
           "colorbar": {
            "outlinewidth": 0,
            "ticks": ""
           }
          },
          "colorscale": {
           "diverging": [
            [
             0,
             "#8e0152"
            ],
            [
             0.1,
             "#c51b7d"
            ],
            [
             0.2,
             "#de77ae"
            ],
            [
             0.3,
             "#f1b6da"
            ],
            [
             0.4,
             "#fde0ef"
            ],
            [
             0.5,
             "#f7f7f7"
            ],
            [
             0.6,
             "#e6f5d0"
            ],
            [
             0.7,
             "#b8e186"
            ],
            [
             0.8,
             "#7fbc41"
            ],
            [
             0.9,
             "#4d9221"
            ],
            [
             1,
             "#276419"
            ]
           ],
           "sequential": [
            [
             0,
             "#0d0887"
            ],
            [
             0.1111111111111111,
             "#46039f"
            ],
            [
             0.2222222222222222,
             "#7201a8"
            ],
            [
             0.3333333333333333,
             "#9c179e"
            ],
            [
             0.4444444444444444,
             "#bd3786"
            ],
            [
             0.5555555555555556,
             "#d8576b"
            ],
            [
             0.6666666666666666,
             "#ed7953"
            ],
            [
             0.7777777777777778,
             "#fb9f3a"
            ],
            [
             0.8888888888888888,
             "#fdca26"
            ],
            [
             1,
             "#f0f921"
            ]
           ],
           "sequentialminus": [
            [
             0,
             "#0d0887"
            ],
            [
             0.1111111111111111,
             "#46039f"
            ],
            [
             0.2222222222222222,
             "#7201a8"
            ],
            [
             0.3333333333333333,
             "#9c179e"
            ],
            [
             0.4444444444444444,
             "#bd3786"
            ],
            [
             0.5555555555555556,
             "#d8576b"
            ],
            [
             0.6666666666666666,
             "#ed7953"
            ],
            [
             0.7777777777777778,
             "#fb9f3a"
            ],
            [
             0.8888888888888888,
             "#fdca26"
            ],
            [
             1,
             "#f0f921"
            ]
           ]
          },
          "colorway": [
           "#636efa",
           "#EF553B",
           "#00cc96",
           "#ab63fa",
           "#FFA15A",
           "#19d3f3",
           "#FF6692",
           "#B6E880",
           "#FF97FF",
           "#FECB52"
          ],
          "font": {
           "color": "#2a3f5f"
          },
          "geo": {
           "bgcolor": "white",
           "lakecolor": "white",
           "landcolor": "#E5ECF6",
           "showlakes": true,
           "showland": true,
           "subunitcolor": "white"
          },
          "hoverlabel": {
           "align": "left"
          },
          "hovermode": "closest",
          "mapbox": {
           "style": "light"
          },
          "paper_bgcolor": "white",
          "plot_bgcolor": "#E5ECF6",
          "polar": {
           "angularaxis": {
            "gridcolor": "white",
            "linecolor": "white",
            "ticks": ""
           },
           "bgcolor": "#E5ECF6",
           "radialaxis": {
            "gridcolor": "white",
            "linecolor": "white",
            "ticks": ""
           }
          },
          "scene": {
           "xaxis": {
            "backgroundcolor": "#E5ECF6",
            "gridcolor": "white",
            "gridwidth": 2,
            "linecolor": "white",
            "showbackground": true,
            "ticks": "",
            "zerolinecolor": "white"
           },
           "yaxis": {
            "backgroundcolor": "#E5ECF6",
            "gridcolor": "white",
            "gridwidth": 2,
            "linecolor": "white",
            "showbackground": true,
            "ticks": "",
            "zerolinecolor": "white"
           },
           "zaxis": {
            "backgroundcolor": "#E5ECF6",
            "gridcolor": "white",
            "gridwidth": 2,
            "linecolor": "white",
            "showbackground": true,
            "ticks": "",
            "zerolinecolor": "white"
           }
          },
          "shapedefaults": {
           "line": {
            "color": "#2a3f5f"
           }
          },
          "ternary": {
           "aaxis": {
            "gridcolor": "white",
            "linecolor": "white",
            "ticks": ""
           },
           "baxis": {
            "gridcolor": "white",
            "linecolor": "white",
            "ticks": ""
           },
           "bgcolor": "#E5ECF6",
           "caxis": {
            "gridcolor": "white",
            "linecolor": "white",
            "ticks": ""
           }
          },
          "title": {
           "x": 0.05
          },
          "xaxis": {
           "automargin": true,
           "gridcolor": "white",
           "linecolor": "white",
           "ticks": "",
           "title": {
            "standoff": 15
           },
           "zerolinecolor": "white",
           "zerolinewidth": 2
          },
          "yaxis": {
           "automargin": true,
           "gridcolor": "white",
           "linecolor": "white",
           "ticks": "",
           "title": {
            "standoff": 15
           },
           "zerolinecolor": "white",
           "zerolinewidth": 2
          }
         }
        },
        "title": {
         "text": "Bikes Availability Over Time"
        },
        "xaxis": {
         "anchor": "y",
         "domain": [
          0,
          1
         ],
         "title": {
          "text": "Date"
         }
        },
        "yaxis": {
         "anchor": "x",
         "domain": [
          0,
          1
         ],
         "title": {
          "text": "Percentage / Count"
         }
        }
       }
      }
     },
     "metadata": {},
     "output_type": "display_data"
    }
   ],
   "source": [
    "# plot series with plotly\n",
    "import plotly.express as px\n",
    "\n",
    "fig = px.line(\n",
    "    filtered_test,\n",
    "    x=\"fecha_actualizacion\",\n",
    "    y=[\"bikes_percent\", \"Bicis_disponibles\"],\n",
    "    title=\"Bikes Availability Over Time\",\n",
    "    labels={\"fecha_actualizacion\": \"Date\", \"value\": \"Percentage / Count\"},\n",
    ")\n",
    "fig.show()"
   ]
  },
  {
   "cell_type": "code",
   "execution_count": 15,
   "id": "b5d260e1",
   "metadata": {},
   "outputs": [],
   "source": [
    "example_points = df[\"Numero\"][:1]  # Example points to visualize\n",
    "# df_example = df.query(\"Numero == @example_point\")\n",
    "df = df.query(\"Numero in @example_points\")\n",
    "df[\"ds\"] = df[\"fecha_actualizacion\"].dt.round(\"min\")\n",
    "df[\"y\"] = df[\"bikes_percent\"] + 1\n",
    "df[\"unique_id\"] = df[\"Numero\"]\n",
    "ex_train, ex_test = split_train_test(df, test_days=7, train_days=200)"
   ]
  },
  {
   "cell_type": "code",
   "execution_count": 16,
   "id": "6d4914f5",
   "metadata": {},
   "outputs": [],
   "source": [
    "from neuralforecast import NeuralForecast\n",
    "from neuralforecast.models import NBEATS, NHITS\n",
    "from utilsforecast.plotting import plot_series\n",
    "import logging\n",
    "logging.getLogger('pytorch_lightning').setLevel(logging.ERROR)"
   ]
  },
  {
   "cell_type": "code",
   "execution_count": 17,
   "id": "be2ec6b2",
   "metadata": {},
   "outputs": [
    {
     "name": "stderr",
     "output_type": "stream",
     "text": [
      "Seed set to 1\n",
      "Seed set to 1\n"
     ]
    }
   ],
   "source": [
    "nixtla_cols = [\"unique_id\", \"ds\", \"y\"]\n",
    "horizon = len(ex_test['y'])\n",
    "models = [NBEATS(input_size=10 * horizon, h=horizon, max_steps=500, enable_progress_bar=False),\n",
    "          NHITS(input_size=10 * horizon, h=horizon, max_steps=500, enable_progress_bar=False)]\n",
    "nf = NeuralForecast(models=models, freq='15min')\n",
    "nf.fit(df=ex_train[nixtla_cols])\n",
    "Y_hat_df = nf.predict()"
   ]
  },
  {
   "cell_type": "code",
   "execution_count": 18,
   "id": "ae6cf3ef",
   "metadata": {},
   "outputs": [
    {
     "data": {
      "image/png": "[encoded data removed]",
      "text/plain": [
       "<Figure size 1600x350 with 1 Axes>"
      ]
     },
     "execution_count": 18,
     "metadata": {},
     "output_type": "execute_result"
    }
   ],
   "source": [
    "plot_series(ex_test, Y_hat_df)"
   ]
  },
  {
   "cell_type": "code",
   "execution_count": 19,
   "id": "ecbd0983",
   "metadata": {},
   "outputs": [
    {
     "name": "stderr",
     "output_type": "stream",
     "text": [
      "Seed set to 1\n"
     ]
    },
    {
     "data": {
      "application/vnd.jupyter.widget-view+json": {
       "model_id": "2c87696c36f749249bfbcd409c84c50c",
       "version_major": 2,
       "version_minor": 0
      },
      "text/plain": [
       "Sanity Checking: |          | 0/? [00:00<?, ?it/s]"
      ]
     },
     "metadata": {},
     "output_type": "display_data"
    },
    {
     "data": {
      "application/vnd.jupyter.widget-view+json": {
       "model_id": "618565dcbebc45c0b139f9ea7da61d49",
       "version_major": 2,
       "version_minor": 0
      },
      "text/plain": [
       "Training: |          | 0/? [00:00<?, ?it/s]"
      ]
     },
     "metadata": {},
     "output_type": "display_data"
    },
    {
     "data": {
      "application/vnd.jupyter.widget-view+json": {
       "model_id": "a0608202711e4d179a22b8e0ee4c6e25",
       "version_major": 2,
       "version_minor": 0
      },
      "text/plain": [
       "Validation: |          | 0/? [00:00<?, ?it/s]"
      ]
     },
     "metadata": {},
     "output_type": "display_data"
    },
    {
     "data": {
      "application/vnd.jupyter.widget-view+json": {
       "model_id": "b2ce6b97d994471fa9eaa987122b9bda",
       "version_major": 2,
       "version_minor": 0
      },
      "text/plain": [
       "Validation: |          | 0/? [00:00<?, ?it/s]"
      ]
     },
     "metadata": {},
     "output_type": "display_data"
    },
    {
     "data": {
      "application/vnd.jupyter.widget-view+json": {
       "model_id": "f1ecddb13c894747ae2cc84dc7160537",
       "version_major": 2,
       "version_minor": 0
      },
      "text/plain": [
       "Validation: |          | 0/? [00:00<?, ?it/s]"
      ]
     },
     "metadata": {},
     "output_type": "display_data"
    },
    {
     "data": {
      "application/vnd.jupyter.widget-view+json": {
       "model_id": "fe8577001ede40f8a6d0996f857e27a8",
       "version_major": 2,
       "version_minor": 0
      },
      "text/plain": [
       "Validation: |          | 0/? [00:00<?, ?it/s]"
      ]
     },
     "metadata": {},
     "output_type": "display_data"
    },
    {
     "data": {
      "application/vnd.jupyter.widget-view+json": {
       "model_id": "7b83b63f7f584b519cff35281e647cc3",
       "version_major": 2,
       "version_minor": 0
      },
      "text/plain": [
       "Validation: |          | 0/? [00:00<?, ?it/s]"
      ]
     },
     "metadata": {},
     "output_type": "display_data"
    },
    {
     "data": {
      "application/vnd.jupyter.widget-view+json": {
       "model_id": "720b4d7cbe724519b2e09e36fec5c73c",
       "version_major": 2,
       "version_minor": 0
      },
      "text/plain": [
       "Validation: |          | 0/? [00:00<?, ?it/s]"
      ]
     },
     "metadata": {},
     "output_type": "display_data"
    },
    {
     "data": {
      "application/vnd.jupyter.widget-view+json": {
       "model_id": "c9ef14d31cd74a728cdfb6606569f2b9",
       "version_major": 2,
       "version_minor": 0
      },
      "text/plain": [
       "Validation: |          | 0/? [00:00<?, ?it/s]"
      ]
     },
     "metadata": {},
     "output_type": "display_data"
    },
    {
     "data": {
      "application/vnd.jupyter.widget-view+json": {
       "model_id": "0101588d4d5941dd92857b4721c8c261",
       "version_major": 2,
       "version_minor": 0
      },
      "text/plain": [
       "Validation: |          | 0/? [00:00<?, ?it/s]"
      ]
     },
     "metadata": {},
     "output_type": "display_data"
    },
    {
     "data": {
      "application/vnd.jupyter.widget-view+json": {
       "model_id": "77d7f49b11d848728b0dee9a04617c1a",
       "version_major": 2,
       "version_minor": 0
      },
      "text/plain": [
       "Validation: |          | 0/? [00:00<?, ?it/s]"
      ]
     },
     "metadata": {},
     "output_type": "display_data"
    },
    {
     "data": {
      "application/vnd.jupyter.widget-view+json": {
       "model_id": "ea97ecd9933d48d7ab4a501dbaa0a8b4",
       "version_major": 2,
       "version_minor": 0
      },
      "text/plain": [
       "Validation: |          | 0/? [00:00<?, ?it/s]"
      ]
     },
     "metadata": {},
     "output_type": "display_data"
    },
    {
     "data": {
      "application/vnd.jupyter.widget-view+json": {
       "model_id": "10dbf64c78514718b0a245cb1cac683f",
       "version_major": 2,
       "version_minor": 0
      },
      "text/plain": [
       "Predicting: |          | 0/? [00:00<?, ?it/s]"
      ]
     },
     "metadata": {},
     "output_type": "display_data"
    }
   ],
   "source": [
    "from neuralforecast import NeuralForecast\n",
    "from neuralforecast.models import NHITS\n",
    "from neuralforecast.losses.pytorch import DistributionLoss  # or MQLoss/IQLoss\n",
    "\n",
    "H = 96 * 7                         # forecasting one day ahead\n",
    "INPUT = 4 * H                   # context: 7 days\n",
    "FREQ = '15min'\n",
    "\n",
    "loss = DistributionLoss(distribution='StudentT', level=[80, 90])\n",
    "\n",
    "model = NHITS(\n",
    "    h=H,\n",
    "    input_size=INPUT,\n",
    "    loss=loss,\n",
    "    n_freq_downsample=[168, 24, 1],\n",
    "    n_pool_kernel_size=[2, 2, 2],\n",
    "    scaler_type='identity',      # because we already put y in [0,1]\n",
    "    learning_rate=1e-3,\n",
    "    max_steps=1000,\n",
    "    early_stop_patience_steps=5,\n",
    "    val_check_steps=50,\n",
    ")\n",
    "\n",
    "# df is your long-format DataFrame, already scaled\n",
    "# futr_df contains the same rows with the engineered calendar features\n",
    "fcst = NeuralForecast(models=[model], freq=FREQ)\n",
    "fcst.fit(df=ex_train[nixtla_cols], val_size=H)   # one-week validation\n",
    "\n",
    "# Generate the correct future dataframe\n",
    "future_df = fcst.make_future_dataframe(df=ex_train[nixtla_cols])\n",
    "\n",
    "pred = fcst.predict(futr_df=future_df)\n"
   ]
  },
  {
   "cell_type": "code",
   "execution_count": 20,
   "id": "543102c7",
   "metadata": {},
   "outputs": [
    {
     "data": {
      "image/png": "[encoded data removed]",
      "text/plain": [
       "<Figure size 1600x350 with 1 Axes>"
      ]
     },
     "execution_count": 20,
     "metadata": {},
     "output_type": "execute_result"
    }
   ],
   "source": [
    "plot_series(ex_test, pred)"
   ]
  },
  {
   "cell_type": "code",
   "execution_count": 21,
   "id": "97344ad1",
   "metadata": {},
   "outputs": [
    {
     "name": "stdout",
     "output_type": "stream",
     "text": [
      "Mean time difference between points: 898.6627043090639 seconds\n"
     ]
    },
    {
     "data": {
      "application/vnd.plotly.v1+json": {
       "config": {
        "plotlyServerURL": "https://plot.ly"
       },
       "data": [
        {
         "hovertemplate": "Date=%{x}<br>Time Difference (seconds)=%{y}<extra></extra>",
         "legendgroup": "",
         "line": {
          "color": "#636efa",
          "dash": "solid"
         },
         "marker": {
          "symbol": "circle"
         },
         "mode": "lines",
         "name": "",
         "orientation": "v",
         "showlegend": false,
         "type": "scatter",
         "x": [
          "2025-06-09T23:50:00.000000",
          "2025-06-10T00:10:00.000000",
          "2025-06-10T00:19:00.000000",
          "2025-06-10T00:39:00.000000",
          "2025-06-10T00:50:00.000000",
          "2025-06-10T01:10:00.000000",
          "2025-06-10T01:20:00.000000",
          "2025-06-10T01:40:00.000000",
          "2025-06-10T01:50:00.000000",
          "2025-06-10T02:10:00.000000",
          "2025-06-10T02:20:00.000000",
          "2025-06-10T02:40:00.000000",
          "2025-06-10T02:49:00.000000",
          "2025-06-10T03:10:00.000000",
          "2025-06-10T03:20:00.000000",
          "2025-06-10T03:40:00.000000",
          "2025-06-10T03:50:00.000000",
          "2025-06-10T04:10:00.000000",
          "2025-06-10T04:20:00.000000",
          "2025-06-10T04:40:00.000000",
          "2025-06-10T04:50:00.000000",
          "2025-06-10T05:10:00.000000",
          "2025-06-10T05:20:00.000000",
          "2025-06-10T05:39:00.000000",
          "2025-06-10T05:50:00.000000",
          "2025-06-10T06:10:00.000000",
          "2025-06-10T06:20:00.000000",
          "2025-06-10T06:40:00.000000",
          "2025-06-10T06:50:00.000000",
          "2025-06-10T07:10:00.000000",
          "2025-06-10T07:20:00.000000",
          "2025-06-10T07:40:00.000000",
          "2025-06-10T07:50:00.000000",
          "2025-06-10T08:10:00.000000",
          "2025-06-10T08:20:00.000000",
          "2025-06-10T08:40:00.000000",
          "2025-06-10T08:50:00.000000",
          "2025-06-10T09:10:00.000000",
          "2025-06-10T09:19:00.000000",
          "2025-06-10T09:41:00.000000",
          "2025-06-10T09:51:00.000000",
          "2025-06-10T10:10:00.000000",
          "2025-06-10T10:21:00.000000",
          "2025-06-10T10:43:00.000000",
          "2025-06-10T10:49:00.000000",
          "2025-06-10T11:10:00.000000",
          "2025-06-10T11:20:00.000000",
          "2025-06-10T11:40:00.000000",
          "2025-06-10T11:49:00.000000",
          "2025-06-10T12:10:00.000000",
          "2025-06-10T12:19:00.000000",
          "2025-06-10T12:40:00.000000",
          "2025-06-10T12:50:00.000000",
          "2025-06-10T13:09:00.000000",
          "2025-06-10T13:20:00.000000",
          "2025-06-10T13:40:00.000000",
          "2025-06-10T13:49:00.000000",
          "2025-06-10T14:09:00.000000",
          "2025-06-10T14:20:00.000000",
          "2025-06-10T14:40:00.000000",
          "2025-06-10T14:49:00.000000",
          "2025-06-10T15:10:00.000000",
          "2025-06-10T15:21:00.000000",
          "2025-06-10T15:40:00.000000",
          "2025-06-10T15:50:00.000000",
          "2025-06-10T16:10:00.000000",
          "2025-06-10T16:20:00.000000",
          "2025-06-10T16:40:00.000000",
          "2025-06-10T16:50:00.000000",
          "2025-06-10T17:10:00.000000",
          "2025-06-10T17:20:00.000000",
          "2025-06-10T17:40:00.000000",
          "2025-06-10T17:50:00.000000",
          "2025-06-10T18:10:00.000000",
          "2025-06-10T18:20:00.000000",
          "2025-06-10T18:27:00.000000",
          "2025-06-10T18:49:00.000000",
          "2025-06-10T19:10:00.000000",
          "2025-06-10T19:20:00.000000",
          "2025-06-10T19:40:00.000000",
          "2025-06-10T19:50:00.000000",
          "2025-06-10T20:10:00.000000",
          "2025-06-10T20:20:00.000000",
          "2025-06-10T20:39:00.000000",
          "2025-06-10T20:49:00.000000",
          "2025-06-10T21:10:00.000000",
          "2025-06-10T21:19:00.000000",
          "2025-06-10T21:39:00.000000",
          "2025-06-10T21:50:00.000000",
          "2025-06-10T22:10:00.000000",
          "2025-06-10T22:20:00.000000",
          "2025-06-10T22:40:00.000000",
          "2025-06-10T22:50:00.000000",
          "2025-06-10T23:10:00.000000",
          "2025-06-10T23:20:00.000000",
          "2025-06-10T23:39:00.000000",
          "2025-06-10T23:49:00.000000",
          "2025-06-11T00:10:00.000000",
          "2025-06-11T00:20:00.000000",
          "2025-06-11T00:40:00.000000",
          "2025-06-11T00:50:00.000000",
          "2025-06-11T01:10:00.000000",
          "2025-06-11T01:19:00.000000",
          "2025-06-11T01:39:00.000000",
          "2025-06-11T01:50:00.000000",
          "2025-06-11T02:10:00.000000",
          "2025-06-11T02:20:00.000000",
          "2025-06-11T02:40:00.000000",
          "2025-06-11T02:50:00.000000",
          "2025-06-11T03:09:00.000000",
          "2025-06-11T03:20:00.000000",
          "2025-06-11T03:40:00.000000",
          "2025-06-11T03:50:00.000000",
          "2025-06-11T04:10:00.000000",
          "2025-06-11T04:20:00.000000",
          "2025-06-11T04:40:00.000000",
          "2025-06-11T04:50:00.000000",
          "2025-06-11T05:09:00.000000",
          "2025-06-11T05:20:00.000000",
          "2025-06-11T05:40:00.000000",
          "2025-06-11T05:50:00.000000",
          "2025-06-11T06:10:00.000000",
          "2025-06-11T06:19:00.000000",
          "2025-06-11T06:40:00.000000",
          "2025-06-11T06:50:00.000000",
          "2025-06-11T07:10:00.000000",
          "2025-06-11T07:19:00.000000",
          "2025-06-11T07:40:00.000000",
          "2025-06-11T07:50:00.000000",
          "2025-06-11T08:10:00.000000",
          "2025-06-11T08:20:00.000000",
          "2025-06-11T08:40:00.000000",
          "2025-06-11T08:50:00.000000",
          "2025-06-11T09:10:00.000000",
          "2025-06-11T09:20:00.000000",
          "2025-06-11T09:40:00.000000",
          "2025-06-11T09:50:00.000000",
          "2025-06-11T10:10:00.000000",
          "2025-06-11T10:20:00.000000",
          "2025-06-11T10:40:00.000000",
          "2025-06-11T10:50:00.000000",
          "2025-06-11T11:11:00.000000",
          "2025-06-11T11:20:00.000000",
          "2025-06-11T11:39:00.000000",
          "2025-06-11T11:50:00.000000",
          "2025-06-11T12:10:00.000000",
          "2025-06-11T12:20:00.000000",
          "2025-06-11T12:39:00.000000",
          "2025-06-11T12:50:00.000000",
          "2025-06-11T13:10:00.000000",
          "2025-06-11T13:30:00.000000",
          "2025-06-11T13:40:00.000000",
          "2025-06-11T13:50:00.000000",
          "2025-06-11T14:10:00.000000",
          "2025-06-11T14:19:00.000000",
          "2025-06-11T14:40:00.000000",
          "2025-06-11T14:50:00.000000",
          "2025-06-11T15:10:00.000000",
          "2025-06-11T15:20:00.000000",
          "2025-06-11T15:40:00.000000",
          "2025-06-11T15:50:00.000000",
          "2025-06-11T16:10:00.000000",
          "2025-06-11T16:21:00.000000",
          "2025-06-11T16:40:00.000000",
          "2025-06-11T16:50:00.000000",
          "2025-06-11T17:10:00.000000",
          "2025-06-11T17:20:00.000000",
          "2025-06-11T17:40:00.000000",
          "2025-06-11T17:50:00.000000",
          "2025-06-11T18:09:00.000000",
          "2025-06-11T18:20:00.000000",
          "2025-06-11T18:40:00.000000",
          "2025-06-11T18:50:00.000000",
          "2025-06-11T19:10:00.000000",
          "2025-06-11T19:20:00.000000",
          "2025-06-11T19:40:00.000000",
          "2025-06-11T19:50:00.000000",
          "2025-06-11T20:10:00.000000",
          "2025-06-11T20:20:00.000000",
          "2025-06-11T20:39:00.000000",
          "2025-06-11T20:50:00.000000",
          "2025-06-11T21:10:00.000000",
          "2025-06-11T21:20:00.000000",
          "2025-06-11T21:40:00.000000",
          "2025-06-11T21:50:00.000000",
          "2025-06-11T22:09:00.000000",
          "2025-06-11T22:20:00.000000",
          "2025-06-11T22:40:00.000000",
          "2025-06-11T22:50:00.000000",
          "2025-06-11T23:09:00.000000",
          "2025-06-11T23:19:00.000000",
          "2025-06-11T23:40:00.000000",
          "2025-06-11T23:50:00.000000",
          "2025-06-12T00:10:00.000000",
          "2025-06-12T00:19:00.000000",
          "2025-06-12T00:40:00.000000",
          "2025-06-12T00:50:00.000000",
          "2025-06-12T01:10:00.000000",
          "2025-06-12T01:20:00.000000",
          "2025-06-12T01:40:00.000000",
          "2025-06-12T01:50:00.000000",
          "2025-06-12T02:10:00.000000",
          "2025-06-12T02:20:00.000000",
          "2025-06-12T02:40:00.000000",
          "2025-06-12T02:50:00.000000",
          "2025-06-12T03:10:00.000000",
          "2025-06-12T03:19:00.000000",
          "2025-06-12T03:40:00.000000",
          "2025-06-12T03:50:00.000000",
          "2025-06-12T04:10:00.000000",
          "2025-06-12T04:20:00.000000",
          "2025-06-12T04:40:00.000000",
          "2025-06-12T04:50:00.000000",
          "2025-06-12T05:10:00.000000",
          "2025-06-12T05:20:00.000000",
          "2025-06-12T05:40:00.000000",
          "2025-06-12T05:50:00.000000",
          "2025-06-12T06:10:00.000000",
          "2025-06-12T06:21:00.000000",
          "2025-06-12T06:40:00.000000",
          "2025-06-12T06:50:00.000000",
          "2025-06-12T07:10:00.000000",
          "2025-06-12T07:19:00.000000",
          "2025-06-12T07:40:00.000000",
          "2025-06-12T07:50:00.000000",
          "2025-06-12T08:10:00.000000",
          "2025-06-12T08:20:00.000000",
          "2025-06-12T08:40:00.000000",
          "2025-06-12T08:50:00.000000",
          "2025-06-12T09:10:00.000000",
          "2025-06-12T09:20:00.000000",
          "2025-06-12T09:40:00.000000",
          "2025-06-12T09:50:00.000000",
          "2025-06-12T10:10:00.000000",
          "2025-06-12T10:19:00.000000",
          "2025-06-12T10:39:00.000000",
          "2025-06-12T10:50:00.000000",
          "2025-06-12T11:10:00.000000",
          "2025-06-12T11:20:00.000000",
          "2025-06-12T11:40:00.000000",
          "2025-06-12T11:49:00.000000",
          "2025-06-12T12:10:00.000000",
          "2025-06-12T12:20:00.000000",
          "2025-06-12T12:39:00.000000",
          "2025-06-12T12:50:00.000000",
          "2025-06-12T13:10:00.000000",
          "2025-06-12T13:20:00.000000",
          "2025-06-12T13:40:00.000000",
          "2025-06-12T13:50:00.000000",
          "2025-06-12T14:10:00.000000",
          "2025-06-12T14:20:00.000000",
          "2025-06-12T14:40:00.000000",
          "2025-06-12T14:50:00.000000",
          "2025-06-12T15:10:00.000000",
          "2025-06-12T15:20:00.000000",
          "2025-06-12T15:40:00.000000",
          "2025-06-12T15:50:00.000000",
          "2025-06-12T16:10:00.000000",
          "2025-06-12T16:20:00.000000",
          "2025-06-12T16:40:00.000000",
          "2025-06-12T16:50:00.000000",
          "2025-06-12T17:10:00.000000",
          "2025-06-12T17:20:00.000000",
          "2025-06-12T17:40:00.000000",
          "2025-06-12T17:50:00.000000",
          "2025-06-12T18:10:00.000000",
          "2025-06-12T18:19:00.000000",
          "2025-06-12T18:40:00.000000",
          "2025-06-12T18:50:00.000000",
          "2025-06-12T19:10:00.000000",
          "2025-06-12T19:20:00.000000",
          "2025-06-12T19:39:00.000000",
          "2025-06-12T19:50:00.000000",
          "2025-06-12T20:09:00.000000",
          "2025-06-12T20:19:00.000000",
          "2025-06-12T20:40:00.000000",
          "2025-06-12T20:50:00.000000",
          "2025-06-12T21:10:00.000000",
          "2025-06-12T21:20:00.000000",
          "2025-06-12T21:39:00.000000",
          "2025-06-12T21:50:00.000000",
          "2025-06-12T22:10:00.000000",
          "2025-06-12T22:19:00.000000",
          "2025-06-12T22:40:00.000000",
          "2025-06-12T22:50:00.000000",
          "2025-06-12T23:10:00.000000",
          "2025-06-12T23:20:00.000000",
          "2025-06-12T23:40:00.000000",
          "2025-06-12T23:50:00.000000",
          "2025-06-13T00:10:00.000000",
          "2025-06-13T00:20:00.000000",
          "2025-06-13T00:39:00.000000",
          "2025-06-13T00:49:00.000000",
          "2025-06-13T01:10:00.000000",
          "2025-06-13T01:19:00.000000",
          "2025-06-13T01:40:00.000000",
          "2025-06-13T01:50:00.000000",
          "2025-06-13T02:10:00.000000",
          "2025-06-13T02:19:00.000000",
          "2025-06-13T02:40:00.000000",
          "2025-06-13T02:50:00.000000",
          "2025-06-13T03:09:00.000000",
          "2025-06-13T03:20:00.000000",
          "2025-06-13T03:39:00.000000",
          "2025-06-13T03:49:00.000000",
          "2025-06-13T04:10:00.000000",
          "2025-06-13T04:20:00.000000",
          "2025-06-13T04:40:00.000000",
          "2025-06-13T04:50:00.000000",
          "2025-06-13T05:10:00.000000",
          "2025-06-13T05:20:00.000000",
          "2025-06-13T05:40:00.000000",
          "2025-06-13T05:50:00.000000",
          "2025-06-13T06:09:00.000000",
          "2025-06-13T06:19:00.000000",
          "2025-06-13T06:40:00.000000",
          "2025-06-13T06:50:00.000000",
          "2025-06-13T07:10:00.000000",
          "2025-06-13T07:20:00.000000",
          "2025-06-13T07:40:00.000000",
          "2025-06-13T07:50:00.000000",
          "2025-06-13T08:09:00.000000",
          "2025-06-13T08:20:00.000000",
          "2025-06-13T08:40:00.000000",
          "2025-06-13T08:50:00.000000",
          "2025-06-13T09:10:00.000000",
          "2025-06-13T09:20:00.000000",
          "2025-06-13T09:40:00.000000",
          "2025-06-13T09:50:00.000000",
          "2025-06-13T10:09:00.000000",
          "2025-06-13T10:19:00.000000",
          "2025-06-13T10:40:00.000000",
          "2025-06-13T10:50:00.000000",
          "2025-06-13T11:11:00.000000",
          "2025-06-13T11:20:00.000000",
          "2025-06-13T11:40:00.000000",
          "2025-06-13T11:49:00.000000",
          "2025-06-13T12:10:00.000000",
          "2025-06-13T12:20:00.000000",
          "2025-06-13T12:40:00.000000",
          "2025-06-13T12:50:00.000000",
          "2025-06-13T13:10:00.000000",
          "2025-06-13T13:20:00.000000",
          "2025-06-13T13:40:00.000000",
          "2025-06-13T13:50:00.000000",
          "2025-06-13T14:09:00.000000",
          "2025-06-13T14:20:00.000000",
          "2025-06-13T14:40:00.000000",
          "2025-06-13T14:50:00.000000",
          "2025-06-13T15:10:00.000000",
          "2025-06-13T15:20:00.000000",
          "2025-06-13T15:40:00.000000",
          "2025-06-13T15:50:00.000000",
          "2025-06-13T16:10:00.000000",
          "2025-06-13T16:19:00.000000",
          "2025-06-13T16:39:00.000000",
          "2025-06-13T16:50:00.000000",
          "2025-06-13T17:10:00.000000",
          "2025-06-13T17:20:00.000000",
          "2025-06-13T17:40:00.000000",
          "2025-06-13T17:49:00.000000",
          "2025-06-13T18:10:00.000000",
          "2025-06-13T18:20:00.000000",
          "2025-06-13T18:40:00.000000",
          "2025-06-13T18:50:00.000000",
          "2025-06-13T19:09:00.000000",
          "2025-06-13T19:20:00.000000",
          "2025-06-13T19:39:00.000000",
          "2025-06-13T19:49:00.000000",
          "2025-06-13T20:10:00.000000",
          "2025-06-13T20:20:00.000000",
          "2025-06-13T20:40:00.000000",
          "2025-06-13T20:49:00.000000",
          "2025-06-13T21:10:00.000000",
          "2025-06-13T21:20:00.000000",
          "2025-06-13T21:40:00.000000",
          "2025-06-13T21:50:00.000000",
          "2025-06-13T22:10:00.000000",
          "2025-06-13T22:20:00.000000",
          "2025-06-13T22:39:00.000000",
          "2025-06-13T22:50:00.000000",
          "2025-06-13T23:10:00.000000",
          "2025-06-13T23:20:00.000000",
          "2025-06-13T23:40:00.000000",
          "2025-06-13T23:50:00.000000",
          "2025-06-14T00:09:00.000000",
          "2025-06-14T00:20:00.000000",
          "2025-06-14T00:40:00.000000",
          "2025-06-14T00:50:00.000000",
          "2025-06-14T01:10:00.000000",
          "2025-06-14T01:19:00.000000",
          "2025-06-14T01:40:00.000000",
          "2025-06-14T01:50:00.000000",
          "2025-06-14T02:10:00.000000",
          "2025-06-14T02:20:00.000000",
          "2025-06-14T02:40:00.000000",
          "2025-06-14T02:50:00.000000",
          "2025-06-14T03:10:00.000000",
          "2025-06-14T03:20:00.000000",
          "2025-06-14T03:39:00.000000",
          "2025-06-14T03:49:00.000000",
          "2025-06-14T04:10:00.000000",
          "2025-06-14T04:18:00.000000",
          "2025-06-14T04:40:00.000000",
          "2025-06-14T04:50:00.000000",
          "2025-06-14T05:10:00.000000",
          "2025-06-14T05:20:00.000000",
          "2025-06-14T05:39:00.000000",
          "2025-06-14T05:50:00.000000",
          "2025-06-14T06:10:00.000000",
          "2025-06-14T06:20:00.000000",
          "2025-06-14T06:40:00.000000",
          "2025-06-14T06:50:00.000000",
          "2025-06-14T07:10:00.000000",
          "2025-06-14T07:20:00.000000",
          "2025-06-14T07:40:00.000000",
          "2025-06-14T07:50:00.000000",
          "2025-06-14T08:10:00.000000",
          "2025-06-14T08:21:00.000000",
          "2025-06-14T08:40:00.000000",
          "2025-06-14T08:50:00.000000",
          "2025-06-14T09:09:00.000000",
          "2025-06-14T09:19:00.000000",
          "2025-06-14T09:40:00.000000",
          "2025-06-14T09:50:00.000000",
          "2025-06-14T10:10:00.000000",
          "2025-06-14T10:20:00.000000",
          "2025-06-14T10:40:00.000000",
          "2025-06-14T10:49:00.000000",
          "2025-06-14T11:10:00.000000",
          "2025-06-14T11:20:00.000000",
          "2025-06-14T11:39:00.000000",
          "2025-06-14T11:50:00.000000",
          "2025-06-14T12:10:00.000000",
          "2025-06-14T12:20:00.000000",
          "2025-06-14T12:39:00.000000",
          "2025-06-14T12:50:00.000000",
          "2025-06-14T13:10:00.000000",
          "2025-06-14T13:20:00.000000",
          "2025-06-14T13:40:00.000000",
          "2025-06-14T13:50:00.000000",
          "2025-06-14T14:10:00.000000",
          "2025-06-14T14:20:00.000000",
          "2025-06-14T14:40:00.000000",
          "2025-06-14T14:49:00.000000",
          "2025-06-14T15:10:00.000000",
          "2025-06-14T15:20:00.000000",
          "2025-06-14T15:39:00.000000",
          "2025-06-14T15:50:00.000000",
          "2025-06-14T16:10:00.000000",
          "2025-06-14T16:20:00.000000",
          "2025-06-14T16:40:00.000000",
          "2025-06-14T16:49:00.000000",
          "2025-06-14T17:10:00.000000",
          "2025-06-14T17:20:00.000000",
          "2025-06-14T17:40:00.000000",
          "2025-06-14T17:50:00.000000",
          "2025-06-14T18:09:00.000000",
          "2025-06-14T18:20:00.000000",
          "2025-06-14T18:40:00.000000",
          "2025-06-14T18:50:00.000000",
          "2025-06-14T19:10:00.000000",
          "2025-06-14T19:20:00.000000",
          "2025-06-14T19:40:00.000000",
          "2025-06-14T19:49:00.000000",
          "2025-06-14T20:10:00.000000",
          "2025-06-14T20:20:00.000000",
          "2025-06-14T20:39:00.000000",
          "2025-06-14T20:50:00.000000",
          "2025-06-14T21:10:00.000000",
          "2025-06-14T21:19:00.000000",
          "2025-06-14T21:40:00.000000",
          "2025-06-14T21:50:00.000000",
          "2025-06-14T22:09:00.000000",
          "2025-06-14T22:19:00.000000",
          "2025-06-14T22:40:00.000000",
          "2025-06-14T22:49:00.000000",
          "2025-06-14T23:10:00.000000",
          "2025-06-14T23:20:00.000000",
          "2025-06-14T23:40:00.000000",
          "2025-06-14T23:49:00.000000",
          "2025-06-15T00:11:00.000000",
          "2025-06-15T00:20:00.000000",
          "2025-06-15T00:40:00.000000",
          "2025-06-15T00:50:00.000000",
          "2025-06-15T01:10:00.000000",
          "2025-06-15T01:20:00.000000",
          "2025-06-15T01:40:00.000000",
          "2025-06-15T01:50:00.000000",
          "2025-06-15T02:09:00.000000",
          "2025-06-15T02:19:00.000000",
          "2025-06-15T02:40:00.000000",
          "2025-06-15T02:50:00.000000",
          "2025-06-15T03:10:00.000000",
          "2025-06-15T03:20:00.000000",
          "2025-06-15T03:40:00.000000",
          "2025-06-15T03:50:00.000000",
          "2025-06-15T04:09:00.000000",
          "2025-06-15T04:19:00.000000",
          "2025-06-15T04:40:00.000000",
          "2025-06-15T04:50:00.000000",
          "2025-06-15T05:10:00.000000",
          "2025-06-15T05:20:00.000000",
          "2025-06-15T05:39:00.000000",
          "2025-06-15T05:50:00.000000",
          "2025-06-15T06:10:00.000000",
          "2025-06-15T06:20:00.000000",
          "2025-06-15T06:39:00.000000",
          "2025-06-15T06:50:00.000000",
          "2025-06-15T07:10:00.000000",
          "2025-06-15T07:20:00.000000",
          "2025-06-15T07:40:00.000000",
          "2025-06-15T07:50:00.000000",
          "2025-06-15T08:10:00.000000",
          "2025-06-15T08:19:00.000000",
          "2025-06-15T08:40:00.000000",
          "2025-06-15T08:50:00.000000",
          "2025-06-15T09:10:00.000000",
          "2025-06-15T09:20:00.000000",
          "2025-06-15T09:40:00.000000",
          "2025-06-15T09:50:00.000000",
          "2025-06-15T10:10:00.000000",
          "2025-06-15T10:20:00.000000",
          "2025-06-15T10:39:00.000000",
          "2025-06-15T10:50:00.000000",
          "2025-06-15T11:10:00.000000",
          "2025-06-15T11:20:00.000000",
          "2025-06-15T11:40:00.000000",
          "2025-06-15T11:50:00.000000",
          "2025-06-15T12:10:00.000000",
          "2025-06-15T12:20:00.000000",
          "2025-06-15T12:40:00.000000",
          "2025-06-15T12:50:00.000000",
          "2025-06-15T13:10:00.000000",
          "2025-06-15T13:20:00.000000",
          "2025-06-15T13:39:00.000000",
          "2025-06-15T13:50:00.000000",
          "2025-06-15T14:10:00.000000",
          "2025-06-15T14:20:00.000000",
          "2025-06-15T14:40:00.000000",
          "2025-06-15T14:50:00.000000",
          "2025-06-15T15:09:00.000000",
          "2025-06-15T15:20:00.000000",
          "2025-06-15T15:40:00.000000",
          "2025-06-15T15:50:00.000000",
          "2025-06-15T16:10:00.000000",
          "2025-06-15T16:20:00.000000",
          "2025-06-15T16:40:00.000000",
          "2025-06-15T16:50:00.000000",
          "2025-06-15T17:10:00.000000",
          "2025-06-15T17:20:00.000000",
          "2025-06-15T17:39:00.000000",
          "2025-06-15T17:50:00.000000",
          "2025-06-15T18:09:00.000000",
          "2025-06-15T18:19:00.000000",
          "2025-06-15T18:40:00.000000",
          "2025-06-15T18:49:00.000000",
          "2025-06-15T19:10:00.000000",
          "2025-06-15T19:20:00.000000",
          "2025-06-15T19:40:00.000000",
          "2025-06-15T19:50:00.000000",
          "2025-06-15T20:09:00.000000",
          "2025-06-15T20:20:00.000000",
          "2025-06-15T20:40:00.000000",
          "2025-06-15T20:50:00.000000",
          "2025-06-15T21:09:00.000000",
          "2025-06-15T21:20:00.000000",
          "2025-06-15T21:40:00.000000",
          "2025-06-15T21:50:00.000000",
          "2025-06-15T22:10:00.000000",
          "2025-06-15T22:20:00.000000",
          "2025-06-15T22:39:00.000000",
          "2025-06-15T22:50:00.000000",
          "2025-06-15T23:10:00.000000",
          "2025-06-15T23:20:00.000000",
          "2025-06-15T23:40:00.000000",
          "2025-06-15T23:50:00.000000",
          "2025-06-16T00:10:00.000000",
          "2025-06-16T00:20:00.000000",
          "2025-06-16T00:40:00.000000",
          "2025-06-16T00:50:00.000000",
          "2025-06-16T01:10:00.000000",
          "2025-06-16T01:20:00.000000",
          "2025-06-16T01:40:00.000000",
          "2025-06-16T01:49:00.000000",
          "2025-06-16T02:10:00.000000",
          "2025-06-16T02:20:00.000000",
          "2025-06-16T02:40:00.000000",
          "2025-06-16T02:49:00.000000",
          "2025-06-16T03:10:00.000000",
          "2025-06-16T03:20:00.000000",
          "2025-06-16T03:40:00.000000",
          "2025-06-16T03:50:00.000000",
          "2025-06-16T04:10:00.000000",
          "2025-06-16T04:20:00.000000",
          "2025-06-16T04:40:00.000000",
          "2025-06-16T04:50:00.000000",
          "2025-06-16T05:10:00.000000",
          "2025-06-16T05:20:00.000000",
          "2025-06-16T05:40:00.000000",
          "2025-06-16T05:51:00.000000",
          "2025-06-16T06:10:00.000000",
          "2025-06-16T06:21:00.000000",
          "2025-06-16T06:40:00.000000",
          "2025-06-16T06:50:00.000000",
          "2025-06-16T07:10:00.000000",
          "2025-06-16T07:20:00.000000",
          "2025-06-16T07:39:00.000000",
          "2025-06-16T07:50:00.000000",
          "2025-06-16T08:10:00.000000",
          "2025-06-16T08:20:00.000000",
          "2025-06-16T08:39:00.000000",
          "2025-06-16T08:50:00.000000",
          "2025-06-16T09:10:00.000000",
          "2025-06-16T09:20:00.000000",
          "2025-06-16T09:40:00.000000",
          "2025-06-16T09:50:00.000000",
          "2025-06-16T10:10:00.000000",
          "2025-06-16T10:19:00.000000",
          "2025-06-16T10:40:00.000000",
          "2025-06-16T10:50:00.000000",
          "2025-06-16T11:10:00.000000",
          "2025-06-16T11:20:00.000000",
          "2025-06-16T11:40:00.000000",
          "2025-06-16T11:49:00.000000",
          "2025-06-16T12:09:00.000000",
          "2025-06-16T12:20:00.000000",
          "2025-06-16T12:40:00.000000",
          "2025-06-16T12:50:00.000000",
          "2025-06-16T13:10:00.000000",
          "2025-06-16T13:20:00.000000",
          "2025-06-16T13:40:00.000000",
          "2025-06-16T13:50:00.000000",
          "2025-06-16T14:10:00.000000",
          "2025-06-16T14:20:00.000000",
          "2025-06-16T14:40:00.000000",
          "2025-06-16T14:49:00.000000",
          "2025-06-16T15:10:00.000000",
          "2025-06-16T15:20:00.000000",
          "2025-06-16T15:40:00.000000",
          "2025-06-16T15:50:00.000000",
          "2025-06-16T16:10:00.000000",
          "2025-06-16T16:19:00.000000",
          "2025-06-16T16:40:00.000000",
          "2025-06-16T16:50:00.000000",
          "2025-06-16T17:10:00.000000",
          "2025-06-16T17:20:00.000000",
          "2025-06-16T17:40:00.000000",
          "2025-06-16T17:50:00.000000",
          "2025-06-16T18:10:00.000000",
          "2025-06-16T18:20:00.000000",
          "2025-06-16T18:40:00.000000",
          "2025-06-16T18:50:00.000000",
          "2025-06-16T19:10:00.000000",
          "2025-06-16T19:19:00.000000",
          "2025-06-16T19:39:00.000000",
          "2025-06-16T19:50:00.000000",
          "2025-06-16T20:10:00.000000",
          "2025-06-16T20:20:00.000000",
          "2025-06-16T20:40:00.000000",
          "2025-06-16T20:50:00.000000",
          "2025-06-16T21:10:00.000000",
          "2025-06-16T21:20:00.000000",
          "2025-06-16T21:40:00.000000",
          "2025-06-16T21:50:00.000000",
          "2025-06-16T22:09:00.000000",
          "2025-06-16T22:19:00.000000",
          "2025-06-16T22:40:00.000000",
          "2025-06-16T22:50:00.000000",
          "2025-06-16T23:10:00.000000",
          "2025-06-16T23:20:00.000000",
          "2025-06-16T23:40:00.000000",
          "2025-06-16T23:50:00.000000"
         ],
         "xaxis": "x",
         "y": {
          "bdata": "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",
          "dtype": "f8"
         },
         "yaxis": "y"
        }
       ],
       "layout": {
        "legend": {
         "tracegroupgap": 0
        },
        "template": {
         "data": {
          "bar": [
           {
            "error_x": {
             "color": "#2a3f5f"
            },
            "error_y": {
             "color": "#2a3f5f"
            },
            "marker": {
             "line": {
              "color": "#E5ECF6",
              "width": 0.5
             },
             "pattern": {
              "fillmode": "overlay",
              "size": 10,
              "solidity": 0.2
             }
            },
            "type": "bar"
           }
          ],
          "barpolar": [
           {
            "marker": {
             "line": {
              "color": "#E5ECF6",
              "width": 0.5
             },
             "pattern": {
              "fillmode": "overlay",
              "size": 10,
              "solidity": 0.2
             }
            },
            "type": "barpolar"
           }
          ],
          "carpet": [
           {
            "aaxis": {
             "endlinecolor": "#2a3f5f",
             "gridcolor": "white",
             "linecolor": "white",
             "minorgridcolor": "white",
             "startlinecolor": "#2a3f5f"
            },
            "baxis": {
             "endlinecolor": "#2a3f5f",
             "gridcolor": "white",
             "linecolor": "white",
             "minorgridcolor": "white",
             "startlinecolor": "#2a3f5f"
            },
            "type": "carpet"
           }
          ],
          "choropleth": [
           {
            "colorbar": {
             "outlinewidth": 0,
             "ticks": ""
            },
            "type": "choropleth"
           }
          ],
          "contour": [
           {
            "colorbar": {
             "outlinewidth": 0,
             "ticks": ""
            },
            "colorscale": [
             [
              0,
              "#0d0887"
             ],
             [
              0.1111111111111111,
              "#46039f"
             ],
             [
              0.2222222222222222,
              "#7201a8"
             ],
             [
              0.3333333333333333,
              "#9c179e"
             ],
             [
              0.4444444444444444,
              "#bd3786"
             ],
             [
              0.5555555555555556,
              "#d8576b"
             ],
             [
              0.6666666666666666,
              "#ed7953"
             ],
             [
              0.7777777777777778,
              "#fb9f3a"
             ],
             [
              0.8888888888888888,
              "#fdca26"
             ],
             [
              1,
              "#f0f921"
             ]
            ],
            "type": "contour"
           }
          ],
          "contourcarpet": [
           {
            "colorbar": {
             "outlinewidth": 0,
             "ticks": ""
            },
            "type": "contourcarpet"
           }
          ],
          "heatmap": [
           {
            "colorbar": {
             "outlinewidth": 0,
             "ticks": ""
            },
            "colorscale": [
             [
              0,
              "#0d0887"
             ],
             [
              0.1111111111111111,
              "#46039f"
             ],
             [
              0.2222222222222222,
              "#7201a8"
             ],
             [
              0.3333333333333333,
              "#9c179e"
             ],
             [
              0.4444444444444444,
              "#bd3786"
             ],
             [
              0.5555555555555556,
              "#d8576b"
             ],
             [
              0.6666666666666666,
              "#ed7953"
             ],
             [
              0.7777777777777778,
              "#fb9f3a"
             ],
             [
              0.8888888888888888,
              "#fdca26"
             ],
             [
              1,
              "#f0f921"
             ]
            ],
            "type": "heatmap"
           }
          ],
          "histogram": [
           {
            "marker": {
             "pattern": {
              "fillmode": "overlay",
              "size": 10,
              "solidity": 0.2
             }
            },
            "type": "histogram"
           }
          ],
          "histogram2d": [
           {
            "colorbar": {
             "outlinewidth": 0,
             "ticks": ""
            },
            "colorscale": [
             [
              0,
              "#0d0887"
             ],
             [
              0.1111111111111111,
              "#46039f"
             ],
             [
              0.2222222222222222,
              "#7201a8"
             ],
             [
              0.3333333333333333,
              "#9c179e"
             ],
             [
              0.4444444444444444,
              "#bd3786"
             ],
             [
              0.5555555555555556,
              "#d8576b"
             ],
             [
              0.6666666666666666,
              "#ed7953"
             ],
             [
              0.7777777777777778,
              "#fb9f3a"
             ],
             [
              0.8888888888888888,
              "#fdca26"
             ],
             [
              1,
              "#f0f921"
             ]
            ],
            "type": "histogram2d"
           }
          ],
          "histogram2dcontour": [
           {
            "colorbar": {
             "outlinewidth": 0,
             "ticks": ""
            },
            "colorscale": [
             [
              0,
              "#0d0887"
             ],
             [
              0.1111111111111111,
              "#46039f"
             ],
             [
              0.2222222222222222,
              "#7201a8"
             ],
             [
              0.3333333333333333,
              "#9c179e"
             ],
             [
              0.4444444444444444,
              "#bd3786"
             ],
             [
              0.5555555555555556,
              "#d8576b"
             ],
             [
              0.6666666666666666,
              "#ed7953"
             ],
             [
              0.7777777777777778,
              "#fb9f3a"
             ],
             [
              0.8888888888888888,
              "#fdca26"
             ],
             [
              1,
              "#f0f921"
             ]
            ],
            "type": "histogram2dcontour"
           }
          ],
          "mesh3d": [
           {
            "colorbar": {
             "outlinewidth": 0,
             "ticks": ""
            },
            "type": "mesh3d"
           }
          ],
          "parcoords": [
           {
            "line": {
             "colorbar": {
              "outlinewidth": 0,
              "ticks": ""
             }
            },
            "type": "parcoords"
           }
          ],
          "pie": [
           {
            "automargin": true,
            "type": "pie"
           }
          ],
          "scatter": [
           {
            "fillpattern": {
             "fillmode": "overlay",
             "size": 10,
             "solidity": 0.2
            },
            "type": "scatter"
           }
          ],
          "scatter3d": [
           {
            "line": {
             "colorbar": {
              "outlinewidth": 0,
              "ticks": ""
             }
            },
            "marker": {
             "colorbar": {
              "outlinewidth": 0,
              "ticks": ""
             }
            },
            "type": "scatter3d"
           }
          ],
          "scattercarpet": [
           {
            "marker": {
             "colorbar": {
              "outlinewidth": 0,
              "ticks": ""
             }
            },
            "type": "scattercarpet"
           }
          ],
          "scattergeo": [
           {
            "marker": {
             "colorbar": {
              "outlinewidth": 0,
              "ticks": ""
             }
            },
            "type": "scattergeo"
           }
          ],
          "scattergl": [
           {
            "marker": {
             "colorbar": {
              "outlinewidth": 0,
              "ticks": ""
             }
            },
            "type": "scattergl"
           }
          ],
          "scattermap": [
           {
            "marker": {
             "colorbar": {
              "outlinewidth": 0,
              "ticks": ""
             }
            },
            "type": "scattermap"
           }
          ],
          "scattermapbox": [
           {
            "marker": {
             "colorbar": {
              "outlinewidth": 0,
              "ticks": ""
             }
            },
            "type": "scattermapbox"
           }
          ],
          "scatterpolar": [
           {
            "marker": {
             "colorbar": {
              "outlinewidth": 0,
              "ticks": ""
             }
            },
            "type": "scatterpolar"
           }
          ],
          "scatterpolargl": [
           {
            "marker": {
             "colorbar": {
              "outlinewidth": 0,
              "ticks": ""
             }
            },
            "type": "scatterpolargl"
           }
          ],
          "scatterternary": [
           {
            "marker": {
             "colorbar": {
              "outlinewidth": 0,
              "ticks": ""
             }
            },
            "type": "scatterternary"
           }
          ],
          "surface": [
           {
            "colorbar": {
             "outlinewidth": 0,
             "ticks": ""
            },
            "colorscale": [
             [
              0,
              "#0d0887"
             ],
             [
              0.1111111111111111,
              "#46039f"
             ],
             [
              0.2222222222222222,
              "#7201a8"
             ],
             [
              0.3333333333333333,
              "#9c179e"
             ],
             [
              0.4444444444444444,
              "#bd3786"
             ],
             [
              0.5555555555555556,
              "#d8576b"
             ],
             [
              0.6666666666666666,
              "#ed7953"
             ],
             [
              0.7777777777777778,
              "#fb9f3a"
             ],
             [
              0.8888888888888888,
              "#fdca26"
             ],
             [
              1,
              "#f0f921"
             ]
            ],
            "type": "surface"
           }
          ],
          "table": [
           {
            "cells": {
             "fill": {
              "color": "#EBF0F8"
             },
             "line": {
              "color": "white"
             }
            },
            "header": {
             "fill": {
              "color": "#C8D4E3"
             },
             "line": {
              "color": "white"
             }
            },
            "type": "table"
           }
          ]
         },
         "layout": {
          "annotationdefaults": {
           "arrowcolor": "#2a3f5f",
           "arrowhead": 0,
           "arrowwidth": 1
          },
          "autotypenumbers": "strict",
          "coloraxis": {
           "colorbar": {
            "outlinewidth": 0,
            "ticks": ""
           }
          },
          "colorscale": {
           "diverging": [
            [
             0,
             "#8e0152"
            ],
            [
             0.1,
             "#c51b7d"
            ],
            [
             0.2,
             "#de77ae"
            ],
            [
             0.3,
             "#f1b6da"
            ],
            [
             0.4,
             "#fde0ef"
            ],
            [
             0.5,
             "#f7f7f7"
            ],
            [
             0.6,
             "#e6f5d0"
            ],
            [
             0.7,
             "#b8e186"
            ],
            [
             0.8,
             "#7fbc41"
            ],
            [
             0.9,
             "#4d9221"
            ],
            [
             1,
             "#276419"
            ]
           ],
           "sequential": [
            [
             0,
             "#0d0887"
            ],
            [
             0.1111111111111111,
             "#46039f"
            ],
            [
             0.2222222222222222,
             "#7201a8"
            ],
            [
             0.3333333333333333,
             "#9c179e"
            ],
            [
             0.4444444444444444,
             "#bd3786"
            ],
            [
             0.5555555555555556,
             "#d8576b"
            ],
            [
             0.6666666666666666,
             "#ed7953"
            ],
            [
             0.7777777777777778,
             "#fb9f3a"
            ],
            [
             0.8888888888888888,
             "#fdca26"
            ],
            [
             1,
             "#f0f921"
            ]
           ],
           "sequentialminus": [
            [
             0,
             "#0d0887"
            ],
            [
             0.1111111111111111,
             "#46039f"
            ],
            [
             0.2222222222222222,
             "#7201a8"
            ],
            [
             0.3333333333333333,
             "#9c179e"
            ],
            [
             0.4444444444444444,
             "#bd3786"
            ],
            [
             0.5555555555555556,
             "#d8576b"
            ],
            [
             0.6666666666666666,
             "#ed7953"
            ],
            [
             0.7777777777777778,
             "#fb9f3a"
            ],
            [
             0.8888888888888888,
             "#fdca26"
            ],
            [
             1,
             "#f0f921"
            ]
           ]
          },
          "colorway": [
           "#636efa",
           "#EF553B",
           "#00cc96",
           "#ab63fa",
           "#FFA15A",
           "#19d3f3",
           "#FF6692",
           "#B6E880",
           "#FF97FF",
           "#FECB52"
          ],
          "font": {
           "color": "#2a3f5f"
          },
          "geo": {
           "bgcolor": "white",
           "lakecolor": "white",
           "landcolor": "#E5ECF6",
           "showlakes": true,
           "showland": true,
           "subunitcolor": "white"
          },
          "hoverlabel": {
           "align": "left"
          },
          "hovermode": "closest",
          "mapbox": {
           "style": "light"
          },
          "paper_bgcolor": "white",
          "plot_bgcolor": "#E5ECF6",
          "polar": {
           "angularaxis": {
            "gridcolor": "white",
            "linecolor": "white",
            "ticks": ""
           },
           "bgcolor": "#E5ECF6",
           "radialaxis": {
            "gridcolor": "white",
            "linecolor": "white",
            "ticks": ""
           }
          },
          "scene": {
           "xaxis": {
            "backgroundcolor": "#E5ECF6",
            "gridcolor": "white",
            "gridwidth": 2,
            "linecolor": "white",
            "showbackground": true,
            "ticks": "",
            "zerolinecolor": "white"
           },
           "yaxis": {
            "backgroundcolor": "#E5ECF6",
            "gridcolor": "white",
            "gridwidth": 2,
            "linecolor": "white",
            "showbackground": true,
            "ticks": "",
            "zerolinecolor": "white"
           },
           "zaxis": {
            "backgroundcolor": "#E5ECF6",
            "gridcolor": "white",
            "gridwidth": 2,
            "linecolor": "white",
            "showbackground": true,
            "ticks": "",
            "zerolinecolor": "white"
           }
          },
          "shapedefaults": {
           "line": {
            "color": "#2a3f5f"
           }
          },
          "ternary": {
           "aaxis": {
            "gridcolor": "white",
            "linecolor": "white",
            "ticks": ""
           },
           "baxis": {
            "gridcolor": "white",
            "linecolor": "white",
            "ticks": ""
           },
           "bgcolor": "#E5ECF6",
           "caxis": {
            "gridcolor": "white",
            "linecolor": "white",
            "ticks": ""
           }
          },
          "title": {
           "x": 0.05
          },
          "xaxis": {
           "automargin": true,
           "gridcolor": "white",
           "linecolor": "white",
           "ticks": "",
           "title": {
            "standoff": 15
           },
           "zerolinecolor": "white",
           "zerolinewidth": 2
          },
          "yaxis": {
           "automargin": true,
           "gridcolor": "white",
           "linecolor": "white",
           "ticks": "",
           "title": {
            "standoff": 15
           },
           "zerolinecolor": "white",
           "zerolinewidth": 2
          }
         }
        },
        "title": {
         "text": "Time Difference Between Points"
        },
        "xaxis": {
         "anchor": "y",
         "domain": [
          0,
          1
         ],
         "title": {
          "text": "Date"
         }
        },
        "yaxis": {
         "anchor": "x",
         "domain": [
          0,
          1
         ],
         "title": {
          "text": "Time Difference (seconds)"
         }
        }
       }
      }
     },
     "metadata": {},
     "output_type": "display_data"
    }
   ],
   "source": [
    "# calculate the time difference between each point\n",
    "time_diff = ex_test[\"ds\"].diff().dt.total_seconds().fillna(0)\n",
    "\n",
    "# calculate the mean time difference\n",
    "mean_time_diff = time_diff.mean()\n",
    "print(f\"Mean time difference between points: {mean_time_diff} seconds\")\n",
    "time_diff\n",
    "# plot the time difference\n",
    "import plotly.express as px\n",
    "fig = px.line(\n",
    "    x=ex_test[\"ds\"],\n",
    "    y=time_diff,\n",
    "    title=\"Time Difference Between Points\",\n",
    "    labels={\"x\": \"Date\", \"y\": \"Time Difference (seconds)\"},\n",
    ")\n",
    "fig.show()"
   ]
  },
  {
   "cell_type": "code",
   "execution_count": 27,
   "id": "0c02c89b",
   "metadata": {},
   "outputs": [
    {
     "name": "stdout",
     "output_type": "stream",
     "text": [
      "Mean time difference after filtering: -0.0750375187593797 seconds\n"
     ]
    },
    {
     "data": {
      "text/html": [
       "<div>\n",
       "<style scoped>\n",
       "    .dataframe tbody tr th:only-of-type {\n",
       "        vertical-align: middle;\n",
       "    }\n",
       "\n",
       "    .dataframe tbody tr th {\n",
       "        vertical-align: top;\n",
       "    }\n",
       "\n",
       "    .dataframe thead th {\n",
       "        text-align: right;\n",
       "    }\n",
       "</style>\n",
       "<table border=\"1\" class=\"dataframe\">\n",
       "  <thead>\n",
       "    <tr style=\"text-align: right;\">\n",
       "      <th></th>\n",
       "      <th>Direccion</th>\n",
       "      <th>Numero</th>\n",
       "      <th>Activo</th>\n",
       "      <th>Bicis_disponibles</th>\n",
       "      <th>Espacios_libres</th>\n",
       "      <th>Espacios_totales</th>\n",
       "      <th>ticket</th>\n",
       "      <th>fecha_actualizacion</th>\n",
       "      <th>geo_shape</th>\n",
       "      <th>geo_point_2d</th>\n",
       "      <th>...</th>\n",
       "      <th>snapshot_ts</th>\n",
       "      <th>Year</th>\n",
       "      <th>Month</th>\n",
       "      <th>Day</th>\n",
       "      <th>Hour</th>\n",
       "      <th>Minute</th>\n",
       "      <th>unique_id</th>\n",
       "      <th>bikes_percent</th>\n",
       "      <th>ds</th>\n",
       "      <th>y</th>\n",
       "    </tr>\n",
       "  </thead>\n",
       "  <tbody>\n",
       "    <tr>\n",
       "      <th>0</th>\n",
       "      <td>Plaza Poeta Llorente</td>\n",
       "      <td>5</td>\n",
       "      <td>True</td>\n",
       "      <td>2</td>\n",
       "      <td>13</td>\n",
       "      <td>15</td>\n",
       "      <td>False</td>\n",
       "      <td>2024-12-31 23:50:08</td>\n",
       "      <td>{\"coordinates\": [-0.3711403661399108, 39.47689...</td>\n",
       "      <td>39.476895339123786,-0.3711403661399108</td>\n",
       "      <td>...</td>\n",
       "      <td>2025-01-01 00:00:03</td>\n",
       "      <td>2024</td>\n",
       "      <td>12</td>\n",
       "      <td>31</td>\n",
       "      <td>23</td>\n",
       "      <td>50</td>\n",
       "      <td>5</td>\n",
       "      <td>13.333333</td>\n",
       "      <td>2024-12-31 23:50:00</td>\n",
       "      <td>14.333333</td>\n",
       "    </tr>\n",
       "    <tr>\n",
       "      <th>1</th>\n",
       "      <td>Plaza Poeta Llorente</td>\n",
       "      <td>5</td>\n",
       "      <td>True</td>\n",
       "      <td>2</td>\n",
       "      <td>13</td>\n",
       "      <td>15</td>\n",
       "      <td>False</td>\n",
       "      <td>2025-01-01 00:19:44</td>\n",
       "      <td>{\"coordinates\": [-0.3711403661399108, 39.47689...</td>\n",
       "      <td>39.476895339123786,-0.3711403661399108</td>\n",
       "      <td>...</td>\n",
       "      <td>2025-01-01 00:30:02</td>\n",
       "      <td>2025</td>\n",
       "      <td>1</td>\n",
       "      <td>1</td>\n",
       "      <td>0</td>\n",
       "      <td>19</td>\n",
       "      <td>5</td>\n",
       "      <td>13.333333</td>\n",
       "      <td>2025-01-01 00:20:00</td>\n",
       "      <td>14.333333</td>\n",
       "    </tr>\n",
       "    <tr>\n",
       "      <th>2</th>\n",
       "      <td>Plaza Poeta Llorente</td>\n",
       "      <td>5</td>\n",
       "      <td>True</td>\n",
       "      <td>2</td>\n",
       "      <td>13</td>\n",
       "      <td>15</td>\n",
       "      <td>False</td>\n",
       "      <td>2025-01-01 00:49:35</td>\n",
       "      <td>{\"coordinates\": [-0.3711403661399108, 39.47689...</td>\n",
       "      <td>39.476895339123786,-0.3711403661399108</td>\n",
       "      <td>...</td>\n",
       "      <td>2025-01-01 01:00:03</td>\n",
       "      <td>2025</td>\n",
       "      <td>1</td>\n",
       "      <td>1</td>\n",
       "      <td>0</td>\n",
       "      <td>49</td>\n",
       "      <td>5</td>\n",
       "      <td>13.333333</td>\n",
       "      <td>2025-01-01 00:50:00</td>\n",
       "      <td>14.333333</td>\n",
       "    </tr>\n",
       "    <tr>\n",
       "      <th>3</th>\n",
       "      <td>Plaza Poeta Llorente</td>\n",
       "      <td>5</td>\n",
       "      <td>True</td>\n",
       "      <td>2</td>\n",
       "      <td>13</td>\n",
       "      <td>15</td>\n",
       "      <td>False</td>\n",
       "      <td>2025-01-01 01:20:04</td>\n",
       "      <td>{\"coordinates\": [-0.3711403661399108, 39.47689...</td>\n",
       "      <td>39.476895339123786,-0.3711403661399108</td>\n",
       "      <td>...</td>\n",
       "      <td>2025-01-01 01:30:02</td>\n",
       "      <td>2025</td>\n",
       "      <td>1</td>\n",
       "      <td>1</td>\n",
       "      <td>1</td>\n",
       "      <td>20</td>\n",
       "      <td>5</td>\n",
       "      <td>13.333333</td>\n",
       "      <td>2025-01-01 01:20:00</td>\n",
       "      <td>14.333333</td>\n",
       "    </tr>\n",
       "    <tr>\n",
       "      <th>4</th>\n",
       "      <td>Plaza Poeta Llorente</td>\n",
       "      <td>5</td>\n",
       "      <td>True</td>\n",
       "      <td>2</td>\n",
       "      <td>13</td>\n",
       "      <td>15</td>\n",
       "      <td>False</td>\n",
       "      <td>2025-01-01 01:49:31</td>\n",
       "      <td>{\"coordinates\": [-0.3711403661399108, 39.47689...</td>\n",
       "      <td>39.476895339123786,-0.3711403661399108</td>\n",
       "      <td>...</td>\n",
       "      <td>2025-01-01 02:00:02</td>\n",
       "      <td>2025</td>\n",
       "      <td>1</td>\n",
       "      <td>1</td>\n",
       "      <td>1</td>\n",
       "      <td>49</td>\n",
       "      <td>5</td>\n",
       "      <td>13.333333</td>\n",
       "      <td>2025-01-01 01:50:00</td>\n",
       "      <td>14.333333</td>\n",
       "    </tr>\n",
       "    <tr>\n",
       "      <th>...</th>\n",
       "      <td>...</td>\n",
       "      <td>...</td>\n",
       "      <td>...</td>\n",
       "      <td>...</td>\n",
       "      <td>...</td>\n",
       "      <td>...</td>\n",
       "      <td>...</td>\n",
       "      <td>...</td>\n",
       "      <td>...</td>\n",
       "      <td>...</td>\n",
       "      <td>...</td>\n",
       "      <td>...</td>\n",
       "      <td>...</td>\n",
       "      <td>...</td>\n",
       "      <td>...</td>\n",
       "      <td>...</td>\n",
       "      <td>...</td>\n",
       "      <td>...</td>\n",
       "      <td>...</td>\n",
       "      <td>...</td>\n",
       "      <td>...</td>\n",
       "    </tr>\n",
       "    <tr>\n",
       "      <th>7991</th>\n",
       "      <td>Plaza Poeta Llorente</td>\n",
       "      <td>5</td>\n",
       "      <td>True</td>\n",
       "      <td>1</td>\n",
       "      <td>14</td>\n",
       "      <td>15</td>\n",
       "      <td>False</td>\n",
       "      <td>2024-12-31 21:40:10</td>\n",
       "      <td>{\"coordinates\": [-0.3711403661399108, 39.47689...</td>\n",
       "      <td>39.476895339123786,-0.3711403661399108</td>\n",
       "      <td>...</td>\n",
       "      <td>2024-12-31 21:45:02</td>\n",
       "      <td>2024</td>\n",
       "      <td>12</td>\n",
       "      <td>31</td>\n",
       "      <td>21</td>\n",
       "      <td>40</td>\n",
       "      <td>5</td>\n",
       "      <td>6.666667</td>\n",
       "      <td>2024-12-31 21:40:00</td>\n",
       "      <td>7.666667</td>\n",
       "    </tr>\n",
       "    <tr>\n",
       "      <th>7992</th>\n",
       "      <td>Plaza Poeta Llorente</td>\n",
       "      <td>5</td>\n",
       "      <td>True</td>\n",
       "      <td>1</td>\n",
       "      <td>14</td>\n",
       "      <td>15</td>\n",
       "      <td>False</td>\n",
       "      <td>2024-12-31 22:09:44</td>\n",
       "      <td>{\"coordinates\": [-0.3711403661399108, 39.47689...</td>\n",
       "      <td>39.476895339123786,-0.3711403661399108</td>\n",
       "      <td>...</td>\n",
       "      <td>2024-12-31 22:15:02</td>\n",
       "      <td>2024</td>\n",
       "      <td>12</td>\n",
       "      <td>31</td>\n",
       "      <td>22</td>\n",
       "      <td>9</td>\n",
       "      <td>5</td>\n",
       "      <td>6.666667</td>\n",
       "      <td>2024-12-31 22:10:00</td>\n",
       "      <td>7.666667</td>\n",
       "    </tr>\n",
       "    <tr>\n",
       "      <th>7993</th>\n",
       "      <td>Plaza Poeta Llorente</td>\n",
       "      <td>5</td>\n",
       "      <td>True</td>\n",
       "      <td>1</td>\n",
       "      <td>14</td>\n",
       "      <td>15</td>\n",
       "      <td>False</td>\n",
       "      <td>2024-12-31 22:39:14</td>\n",
       "      <td>{\"coordinates\": [-0.3711403661399108, 39.47689...</td>\n",
       "      <td>39.476895339123786,-0.3711403661399108</td>\n",
       "      <td>...</td>\n",
       "      <td>2024-12-31 22:45:02</td>\n",
       "      <td>2024</td>\n",
       "      <td>12</td>\n",
       "      <td>31</td>\n",
       "      <td>22</td>\n",
       "      <td>39</td>\n",
       "      <td>5</td>\n",
       "      <td>6.666667</td>\n",
       "      <td>2024-12-31 22:39:00</td>\n",
       "      <td>7.666667</td>\n",
       "    </tr>\n",
       "    <tr>\n",
       "      <th>7994</th>\n",
       "      <td>Plaza Poeta Llorente</td>\n",
       "      <td>5</td>\n",
       "      <td>True</td>\n",
       "      <td>1</td>\n",
       "      <td>14</td>\n",
       "      <td>15</td>\n",
       "      <td>False</td>\n",
       "      <td>2024-12-31 23:09:43</td>\n",
       "      <td>{\"coordinates\": [-0.3711403661399108, 39.47689...</td>\n",
       "      <td>39.476895339123786,-0.3711403661399108</td>\n",
       "      <td>...</td>\n",
       "      <td>2024-12-31 23:15:01</td>\n",
       "      <td>2024</td>\n",
       "      <td>12</td>\n",
       "      <td>31</td>\n",
       "      <td>23</td>\n",
       "      <td>9</td>\n",
       "      <td>5</td>\n",
       "      <td>6.666667</td>\n",
       "      <td>2024-12-31 23:10:00</td>\n",
       "      <td>7.666667</td>\n",
       "    </tr>\n",
       "    <tr>\n",
       "      <th>7995</th>\n",
       "      <td>Plaza Poeta Llorente</td>\n",
       "      <td>5</td>\n",
       "      <td>True</td>\n",
       "      <td>2</td>\n",
       "      <td>13</td>\n",
       "      <td>15</td>\n",
       "      <td>False</td>\n",
       "      <td>2024-12-31 23:39:34</td>\n",
       "      <td>{\"coordinates\": [-0.3711403661399108, 39.47689...</td>\n",
       "      <td>39.476895339123786,-0.3711403661399108</td>\n",
       "      <td>...</td>\n",
       "      <td>2024-12-31 23:45:02</td>\n",
       "      <td>2024</td>\n",
       "      <td>12</td>\n",
       "      <td>31</td>\n",
       "      <td>23</td>\n",
       "      <td>39</td>\n",
       "      <td>5</td>\n",
       "      <td>13.333333</td>\n",
       "      <td>2024-12-31 23:40:00</td>\n",
       "      <td>14.333333</td>\n",
       "    </tr>\n",
       "  </tbody>\n",
       "</table>\n",
       "<p>7996 rows × 22 columns</p>\n",
       "</div>"
      ],
      "text/plain": [
       "                 Direccion  Numero  Activo  Bicis_disponibles  \\\n",
       "0     Plaza Poeta Llorente       5    True                  2   \n",
       "1     Plaza Poeta Llorente       5    True                  2   \n",
       "2     Plaza Poeta Llorente       5    True                  2   \n",
       "3     Plaza Poeta Llorente       5    True                  2   \n",
       "4     Plaza Poeta Llorente       5    True                  2   \n",
       "...                    ...     ...     ...                ...   \n",
       "7991  Plaza Poeta Llorente       5    True                  1   \n",
       "7992  Plaza Poeta Llorente       5    True                  1   \n",
       "7993  Plaza Poeta Llorente       5    True                  1   \n",
       "7994  Plaza Poeta Llorente       5    True                  1   \n",
       "7995  Plaza Poeta Llorente       5    True                  2   \n",
       "\n",
       "      Espacios_libres  Espacios_totales  ticket fecha_actualizacion  \\\n",
       "0                  13                15   False 2024-12-31 23:50:08   \n",
       "1                  13                15   False 2025-01-01 00:19:44   \n",
       "2                  13                15   False 2025-01-01 00:49:35   \n",
       "3                  13                15   False 2025-01-01 01:20:04   \n",
       "4                  13                15   False 2025-01-01 01:49:31   \n",
       "...               ...               ...     ...                 ...   \n",
       "7991               14                15   False 2024-12-31 21:40:10   \n",
       "7992               14                15   False 2024-12-31 22:09:44   \n",
       "7993               14                15   False 2024-12-31 22:39:14   \n",
       "7994               14                15   False 2024-12-31 23:09:43   \n",
       "7995               13                15   False 2024-12-31 23:39:34   \n",
       "\n",
       "                                              geo_shape  \\\n",
       "0     {\"coordinates\": [-0.3711403661399108, 39.47689...   \n",
       "1     {\"coordinates\": [-0.3711403661399108, 39.47689...   \n",
       "2     {\"coordinates\": [-0.3711403661399108, 39.47689...   \n",
       "3     {\"coordinates\": [-0.3711403661399108, 39.47689...   \n",
       "4     {\"coordinates\": [-0.3711403661399108, 39.47689...   \n",
       "...                                                 ...   \n",
       "7991  {\"coordinates\": [-0.3711403661399108, 39.47689...   \n",
       "7992  {\"coordinates\": [-0.3711403661399108, 39.47689...   \n",
       "7993  {\"coordinates\": [-0.3711403661399108, 39.47689...   \n",
       "7994  {\"coordinates\": [-0.3711403661399108, 39.47689...   \n",
       "7995  {\"coordinates\": [-0.3711403661399108, 39.47689...   \n",
       "\n",
       "                                geo_point_2d  ...         snapshot_ts  Year  \\\n",
       "0     39.476895339123786,-0.3711403661399108  ... 2025-01-01 00:00:03  2024   \n",
       "1     39.476895339123786,-0.3711403661399108  ... 2025-01-01 00:30:02  2025   \n",
       "2     39.476895339123786,-0.3711403661399108  ... 2025-01-01 01:00:03  2025   \n",
       "3     39.476895339123786,-0.3711403661399108  ... 2025-01-01 01:30:02  2025   \n",
       "4     39.476895339123786,-0.3711403661399108  ... 2025-01-01 02:00:02  2025   \n",
       "...                                      ...  ...                 ...   ...   \n",
       "7991  39.476895339123786,-0.3711403661399108  ... 2024-12-31 21:45:02  2024   \n",
       "7992  39.476895339123786,-0.3711403661399108  ... 2024-12-31 22:15:02  2024   \n",
       "7993  39.476895339123786,-0.3711403661399108  ... 2024-12-31 22:45:02  2024   \n",
       "7994  39.476895339123786,-0.3711403661399108  ... 2024-12-31 23:15:01  2024   \n",
       "7995  39.476895339123786,-0.3711403661399108  ... 2024-12-31 23:45:02  2024   \n",
       "\n",
       "     Month  Day  Hour  Minute  unique_id  bikes_percent                  ds  \\\n",
       "0       12   31    23      50          5      13.333333 2024-12-31 23:50:00   \n",
       "1        1    1     0      19          5      13.333333 2025-01-01 00:20:00   \n",
       "2        1    1     0      49          5      13.333333 2025-01-01 00:50:00   \n",
       "3        1    1     1      20          5      13.333333 2025-01-01 01:20:00   \n",
       "4        1    1     1      49          5      13.333333 2025-01-01 01:50:00   \n",
       "...    ...  ...   ...     ...        ...            ...                 ...   \n",
       "7991    12   31    21      40          5       6.666667 2024-12-31 21:40:00   \n",
       "7992    12   31    22       9          5       6.666667 2024-12-31 22:10:00   \n",
       "7993    12   31    22      39          5       6.666667 2024-12-31 22:39:00   \n",
       "7994    12   31    23       9          5       6.666667 2024-12-31 23:10:00   \n",
       "7995    12   31    23      39          5      13.333333 2024-12-31 23:40:00   \n",
       "\n",
       "              y  \n",
       "0     14.333333  \n",
       "1     14.333333  \n",
       "2     14.333333  \n",
       "3     14.333333  \n",
       "4     14.333333  \n",
       "...         ...  \n",
       "7991   7.666667  \n",
       "7992   7.666667  \n",
       "7993   7.666667  \n",
       "7994   7.666667  \n",
       "7995  14.333333  \n",
       "\n",
       "[7996 rows x 22 columns]"
      ]
     },
     "execution_count": 27,
     "metadata": {},
     "output_type": "execute_result"
    }
   ],
   "source": [
    "# there are some points with a time_difference of 600 seconds and some with 1200.\n",
    "# we want to keep the points with a constant time difference, so we will\n",
    "# filter the DataFrame to make it 1800 seconds (remove even entries)\n",
    "\n",
    "filtered_df = df.reset_index(drop=True)\n",
    "filtered_df = filtered_df[filtered_df.index % 2 == 0].reset_index(drop=True)\n",
    "\n",
    "# calculate the new time difference\n",
    "time_diff_filtered = filtered_df[\"ds\"].diff().dt.total_seconds().fillna(0)\n",
    "# calculate the mean time difference\n",
    "mean_time_diff_filtered = time_diff_filtered.mean()\n",
    "print(f\"Mean time difference after filtering: {mean_time_diff_filtered} seconds\")\n",
    "\n",
    "filtered_df"
   ]
  }
 ],
 "metadata": {
  "kernelspec": {
   "display_name": ".venv",
   "language": "python",
   "name": "python3"
  },
  "language_info": {
   "codemirror_mode": {
    "name": "ipython",
    "version": 3
   },
   "file_extension": ".py",
   "mimetype": "text/x-python",
   "name": "python",
   "nbconvert_exporter": "python",
   "pygments_lexer": "ipython3",
   "version": "3.12.11"
  }
 },
 "nbformat": 4,
 "nbformat_minor": 5
}
